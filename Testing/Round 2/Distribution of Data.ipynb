{
 "cells": [
  {
   "cell_type": "code",
   "execution_count": 30,
   "metadata": {},
   "outputs": [],
   "source": [
    "import matplotlib.pyplot as plt\n",
    "import numpy as np\n",
    "import scipy\n",
    "\n",
    "from numpy.random import seed\n",
    "from numpy.random import randn\n",
    "from numpy import mean\n",
    "from numpy import std\n",
    "from scipy.stats import skew"
   ]
  },
  {
   "cell_type": "markdown",
   "metadata": {},
   "source": [
    "## Generate Gaussian Data"
   ]
  },
  {
   "cell_type": "code",
   "execution_count": 37,
   "metadata": {},
   "outputs": [
    {
     "name": "stdout",
     "output_type": "stream",
     "text": [
      "mean: 2.515,  standard deviation: 0.221\n"
     ]
    },
    {
     "data": {
      "image/png": "[encoded data removed]",
      "text/plain": [
       "<Figure size 432x288 with 1 Axes>"
      ]
     },
     "metadata": {
      "needs_background": "light"
     },
     "output_type": "display_data"
    }
   ],
   "source": [
    "seed(1)\n",
    "\n",
    "# generate univariate observations with a mean of 2.5 and standard deviation of 5%\n",
    "data = 0.25 * randn(100) + 2.5\n",
    "\n",
    "print('mean: %.3f,  standard deviation: %.3f' % (mean(data), std(data)))\n",
    "\n",
    "plt.hist(data)\n",
    "plt.show()"
   ]
  },
  {
   "cell_type": "markdown",
   "metadata": {},
   "source": [
    "## Recycling Knowledge"
   ]
  },
  {
   "cell_type": "code",
   "execution_count": 8,
   "metadata": {},
   "outputs": [
    {
     "name": "stdout",
     "output_type": "stream",
     "text": [
      "21  participants\n"
     ]
    }
   ],
   "source": [
    "knowledge = [2,2,2,3,3,3,3,3,3,3.5,4,4,4,4,4,4,4,5,5,5,5]\n",
    "print(len(knowledge), \" participants\")"
   ]
  },
  {
   "cell_type": "code",
   "execution_count": 23,
   "metadata": {},
   "outputs": [
    {
     "name": "stdout",
     "output_type": "stream",
     "text": [
      "Average:  3.5952380952380953\n",
      "Standard Deviation:  0.946409853064371\n",
      "Skew:  -0.10629937170342317\n"
     ]
    },
    {
     "data": {
      "image/png": "[encoded data removed]",
      "text/plain": [
       "<Figure size 432x288 with 1 Axes>"
      ]
     },
     "metadata": {
      "needs_background": "light"
     },
     "output_type": "display_data"
    }
   ],
   "source": [
    "knowledge_avg = np.mean(knowledge)\n",
    "knowledge_sd = np.std(knowledge)\n",
    "knowledge_skew = skew(knowledge)\n",
    "\n",
    "print(\"Average: \", knowledge_avg)\n",
    "print(\"Standard Deviation: \", knowledge_sd)\n",
    "print(\"Skew: \", knowledge_skew)\n",
    "\n",
    "plt.hist(knowledge, bins = [0,1,2,3,4,5])\n",
    "plt.hist(knowledge, bins = [2,2.5,3,3.5,4,4.5,5])\n",
    "plt.show()"
   ]
  },
  {
   "cell_type": "code",
   "execution_count": 38,
   "metadata": {},
   "outputs": [
    {
     "data": {
      "image/png": "[encoded data removed]",
      "text/plain": [
       "<Figure size 432x288 with 1 Axes>"
      ]
     },
     "metadata": {
      "needs_background": "light"
     },
     "output_type": "display_data"
    }
   ],
   "source": [
    "plt.hist(data)\n",
    "plt.hist(knowledge)\n",
    "plt.show()"
   ]
  },
  {
   "cell_type": "markdown",
   "metadata": {},
   "source": [
    "## Likeliness to Recycle"
   ]
  },
  {
   "cell_type": "code",
   "execution_count": 13,
   "metadata": {},
   "outputs": [],
   "source": [
    "likeliness = [2.666666667,3.333333333,3.333333333,3.333333333,4.333333333,3.333333333,4.333333333,4.666666667,3.333333333,4.333333333,4.5,4.333333333,3.833333333,3.666666667,4.333333333,4,3.5,3.333333333,4.666666667,4.666666667,4.333333333]"
   ]
  },
  {
   "cell_type": "code",
   "execution_count": 22,
   "metadata": {},
   "outputs": [
    {
     "name": "stdout",
     "output_type": "stream",
     "text": [
      "Average:  3.912698412571428\n",
      "Standard Deviation:  0.5741776904525321\n",
      "Skew:  -0.3148251330405566\n"
     ]
    },
    {
     "data": {
      "image/png": "[encoded data removed]",
      "text/plain": [
       "<Figure size 432x288 with 1 Axes>"
      ]
     },
     "metadata": {
      "needs_background": "light"
     },
     "output_type": "display_data"
    }
   ],
   "source": [
    "likeliness_avg = np.mean(likeliness)\n",
    "likeliness_sd = np.std(likeliness)\n",
    "likeliness_skew = skew(likeliness)\n",
    "\n",
    "print(\"Average: \", likeliness_avg)\n",
    "print(\"Standard Deviation: \", likeliness_sd)\n",
    "print(\"Skew: \", likeliness_skew)\n",
    "\n",
    "plt.hist(likeliness, bins = [0,1,2,3,4,5])\n",
    "plt.hist(likeliness, bins = [2,2.5,3,3.5,4,4.5,5])\n",
    "plt.show()"
   ]
  },
  {
   "cell_type": "code",
   "execution_count": null,
   "metadata": {},
   "outputs": [],
   "source": [
    "plt.hist(data)\n",
    "plt.hist(l)\n",
    "plt.show()"
   ]
  },
  {
   "cell_type": "markdown",
   "metadata": {},
   "source": [
    "## Motivation to Recycle"
   ]
  },
  {
   "cell_type": "code",
   "execution_count": 15,
   "metadata": {},
   "outputs": [],
   "source": [
    "motivation = [4,5,5,5,5,5,5,4.5,5,5,5,5,3.5,3,3,4.5,4,4.5,4.5,5,5]"
   ]
  },
  {
   "cell_type": "code",
   "execution_count": 20,
   "metadata": {},
   "outputs": [
    {
     "name": "stdout",
     "output_type": "stream",
     "text": [
      "Average:  4.5476190476190474\n",
      "Standard Deviation:  0.6529194857524803\n",
      "Skew:  -1.331212016821875\n"
     ]
    },
    {
     "data": {
      "image/png": "[encoded data removed]",
      "text/plain": [
       "<Figure size 432x288 with 1 Axes>"
      ]
     },
     "metadata": {
      "needs_background": "light"
     },
     "output_type": "display_data"
    }
   ],
   "source": [
    "motivation_avg = np.mean(motivation)\n",
    "motivation_sd = np.std(motivation)\n",
    "motivation_skew = skew(motivation)\n",
    "\n",
    "print(\"Average: \", motivation_avg)\n",
    "print(\"Standard Deviation: \", motivation_sd)\n",
    "print(\"Skew: \", motivation_skew)\n",
    "\n",
    "plt.hist(motivation, bins = [0,1,2,3,4,5])\n",
    "plt.hist(motivation, bins = [3,3.5,4,4.5,5])\n",
    "plt.show()"
   ]
  },
  {
   "cell_type": "markdown",
   "metadata": {},
   "source": [
    "## User Satisfaction Score"
   ]
  },
  {
   "cell_type": "code",
   "execution_count": 24,
   "metadata": {},
   "outputs": [],
   "source": [
    "uss = [5,4.1,4.2,4.4,3.9,5,4.4,4.5,4.6,4.2,4.4,4.2,4.6,3.4,3.8,4.3,4.4,4.6,4,3.5,4.4]"
   ]
  },
  {
   "cell_type": "code",
   "execution_count": 28,
   "metadata": {},
   "outputs": [
    {
     "name": "stdout",
     "output_type": "stream",
     "text": [
      "Average:  4.280952380952381\n",
      "Standard Deviation:  0.39954622787434346\n",
      "Skew:  -0.37052314654234214\n"
     ]
    },
    {
     "data": {
      "image/png": "[encoded data removed]",
      "text/plain": [
       "<Figure size 432x288 with 1 Axes>"
      ]
     },
     "metadata": {
      "needs_background": "light"
     },
     "output_type": "display_data"
    }
   ],
   "source": [
    "uss_avg = np.mean(uss)\n",
    "uss_sd = np.std(uss)\n",
    "uss_skew = skew(uss)\n",
    "\n",
    "print(\"Average: \", uss_avg)\n",
    "print(\"Standard Deviation: \", uss_sd)\n",
    "print(\"Skew: \", uss_skew)\n",
    "\n",
    "plt.hist(uss, bins = [0,1,2,3,4,5])\n",
    "plt.hist(uss, bins = [3,3.5,4,4.5,5])\n",
    "plt.show()"
   ]
  },
  {
   "cell_type": "code",
   "execution_count": 29,
   "metadata": {},
   "outputs": [
    {
     "data": {
      "image/png": "[encoded data removed]",
      "text/plain": [
       "<Figure size 432x288 with 1 Axes>"
      ]
     },
     "metadata": {
      "needs_background": "light"
     },
     "output_type": "display_data"
    }
   ],
   "source": [
    "plt.hist(uss, bins = 8)\n",
    "plt.show()"
   ]
  },
  {
   "cell_type": "code",
   "execution_count": null,
   "metadata": {},
   "outputs": [],
   "source": []
  }
 ],
 "metadata": {
  "kernelspec": {
   "display_name": "Python 3",
   "language": "python",
   "name": "python3"
  },
  "language_info": {
   "codemirror_mode": {
    "name": "ipython",
    "version": 3
   },
   "file_extension": ".py",
   "mimetype": "text/x-python",
   "name": "python",
   "nbconvert_exporter": "python",
   "pygments_lexer": "ipython3",
   "version": "3.7.3"
  }
 },
 "nbformat": 4,
 "nbformat_minor": 4
}
