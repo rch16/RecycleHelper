{
 "cells": [
  {
   "cell_type": "code",
   "execution_count": 12,
   "metadata": {},
   "outputs": [],
   "source": [
    "import coremltools\n",
    "import numpy as np\n",
    "import tensorflow as tf\n",
    "import os\n",
    "import tfcoreml\n",
    "import h5py\n",
    "import sympy\n",
    "\n",
    "from tensorflow.keras.models import load_model"
   ]
  },
  {
   "cell_type": "code",
   "execution_count": 3,
   "metadata": {},
   "outputs": [
    {
     "name": "stdout",
     "output_type": "stream",
     "text": [
      "Name: tensorflow\r\n",
      "Version: 2.2.0\r\n",
      "Summary: TensorFlow is an open source machine learning framework for everyone.\r\n",
      "Home-page: https://www.tensorflow.org/\r\n",
      "Author: Google Inc.\r\n",
      "Author-email: packages@tensorflow.org\r\n",
      "License: Apache 2.0\r\n",
      "Location: /Users/beccahallam/Library/Python/3.7/lib/python/site-packages\r\n",
      "Requires: scipy, keras-preprocessing, wheel, termcolor, six, tensorflow-estimator, astunparse, google-pasta, absl-py, opt-einsum, numpy, protobuf, tensorboard, wrapt, gast, grpcio, h5py\r\n",
      "Required-by: tfcoreml, talos\r\n"
     ]
    }
   ],
   "source": [
    "!pip show tensorflow"
   ]
  },
  {
   "cell_type": "markdown",
   "metadata": {},
   "source": [
    "## ML Model Conversion"
   ]
  },
  {
   "cell_type": "markdown",
   "metadata": {},
   "source": [
    "From .h5 to .mlmodel for use in an iOS Application"
   ]
  },
  {
   "cell_type": "markdown",
   "metadata": {},
   "source": [
    "### Import model"
   ]
  },
  {
   "cell_type": "code",
   "execution_count": 4,
   "metadata": {},
   "outputs": [],
   "source": [
    "model_name = 'waste_classifier_model.h5'\n",
    "directory = os.path.dirname(model_name)\n",
    "model_file = os.path.join(directory, model_name)"
   ]
  },
  {
   "cell_type": "code",
   "execution_count": 5,
   "metadata": {},
   "outputs": [],
   "source": [
    "model = load_model(model_file)"
   ]
  },
  {
   "cell_type": "code",
   "execution_count": 6,
   "metadata": {},
   "outputs": [
    {
     "name": "stdout",
     "output_type": "stream",
     "text": [
      "Tensor(\"conv2d_input:0\", shape=(None, 300, 300, 3), dtype=float32)\n",
      "Tensor(\"dense_2/Identity:0\", shape=(None, 6), dtype=float32)\n"
     ]
    }
   ],
   "source": [
    "ip = model.input\n",
    "op = model.output\n",
    "\n",
    "print(ip)\n",
    "print(op)"
   ]
  },
  {
   "cell_type": "code",
   "execution_count": 7,
   "metadata": {},
   "outputs": [
    {
     "name": "stdout",
     "output_type": "stream",
     "text": [
      "Model: \"sequential\"\n",
      "_________________________________________________________________\n",
      "Layer (type)                 Output Shape              Param #   \n",
      "=================================================================\n",
      "conv2d (Conv2D)              (None, 300, 300, 32)      896       \n",
      "_________________________________________________________________\n",
      "max_pooling2d (MaxPooling2D) (None, 150, 150, 32)      0         \n",
      "_________________________________________________________________\n",
      "conv2d_1 (Conv2D)            (None, 150, 150, 64)      18496     \n",
      "_________________________________________________________________\n",
      "max_pooling2d_1 (MaxPooling2 (None, 75, 75, 64)        0         \n",
      "_________________________________________________________________\n",
      "conv2d_2 (Conv2D)            (None, 75, 75, 32)        18464     \n",
      "_________________________________________________________________\n",
      "max_pooling2d_2 (MaxPooling2 (None, 37, 37, 32)        0         \n",
      "_________________________________________________________________\n",
      "flatten (Flatten)            (None, 43808)             0         \n",
      "_________________________________________________________________\n",
      "dense (Dense)                (None, 64)                2803776   \n",
      "_________________________________________________________________\n",
      "dropout (Dropout)            (None, 64)                0         \n",
      "_________________________________________________________________\n",
      "dense_1 (Dense)              (None, 32)                2080      \n",
      "_________________________________________________________________\n",
      "dropout_1 (Dropout)          (None, 32)                0         \n",
      "_________________________________________________________________\n",
      "dense_2 (Dense)              (None, 6)                 198       \n",
      "=================================================================\n",
      "Total params: 2,843,910\n",
      "Trainable params: 2,843,910\n",
      "Non-trainable params: 0\n",
      "_________________________________________________________________\n"
     ]
    }
   ],
   "source": [
    "model.summary()"
   ]
  },
  {
   "cell_type": "code",
   "execution_count": 28,
   "metadata": {},
   "outputs": [
    {
     "ename": "AttributeError",
     "evalue": "'Sequential' object has no attribute 'accuracy'",
     "output_type": "error",
     "traceback": [
      "\u001b[0;31m---------------------------------------------------------------------------\u001b[0m",
      "\u001b[0;31mAttributeError\u001b[0m                            Traceback (most recent call last)",
      "\u001b[0;32m<ipython-input-28-77f9e46ca115>\u001b[0m in \u001b[0;36m<module>\u001b[0;34m\u001b[0m\n\u001b[0;32m----> 1\u001b[0;31m \u001b[0mprint\u001b[0m\u001b[0;34m(\u001b[0m\u001b[0mmodel\u001b[0m\u001b[0;34m.\u001b[0m\u001b[0maccuracy\u001b[0m\u001b[0;34m)\u001b[0m\u001b[0;34m\u001b[0m\u001b[0;34m\u001b[0m\u001b[0m\n\u001b[0m",
      "\u001b[0;31mAttributeError\u001b[0m: 'Sequential' object has no attribute 'accuracy'"
     ]
    }
   ],
   "source": [
    "print(model.accuracy)"
   ]
  },
  {
   "cell_type": "markdown",
   "metadata": {},
   "source": [
    "### Convert model"
   ]
  },
  {
   "cell_type": "code",
   "execution_count": 8,
   "metadata": {},
   "outputs": [],
   "source": [
    "output_labels = ['cardboard',\n",
    "                'glass',\n",
    "                'metal',\n",
    "                'paper',\n",
    "                'plastic',\n",
    "                'trash']"
   ]
  },
  {
   "cell_type": "code",
   "execution_count": 9,
   "metadata": {},
   "outputs": [
    {
     "name": "stdout",
     "output_type": "stream",
     "text": [
      "conv2d_input\n",
      "dense_2/Identity\n",
      "Identity\n"
     ]
    }
   ],
   "source": [
    "# get input, output node names for the TF graph from the Keras model\n",
    "input_name = model.inputs[0].name.split(':')[0]\n",
    "keras_output_node_name = model.outputs[0].name.split(':')[0]\n",
    "graph_output_node_name = keras_output_node_name.split('/')[-1]\n",
    "\n",
    "print(input_name)\n",
    "print(keras_output_node_name)\n",
    "print(graph_output_node_name)"
   ]
  },
  {
   "cell_type": "code",
   "execution_count": 24,
   "metadata": {},
   "outputs": [
    {
     "name": "stdout",
     "output_type": "stream",
     "text": [
      "0 assert nodes deleted\n",
      "12 nodes deleted\n",
      "0 nodes deleted\n",
      "0 nodes deleted\n",
      "[Op Fusion] fuse_bias_add() deleted 12 nodes.\n",
      "1 identity nodes deleted\n",
      "6 disconnected nodes deleted\n",
      "[SSAConverter] Converting function main ...\n",
      "[SSAConverter] [1/20] Converting op type: 'Placeholder', name: 'conv2d_input', output_shape: (-1, 300, 300, 3).\n",
      "[SSAConverter] [2/20] Converting op type: 'Const', name: 'sequential/flatten/Const', output_shape: (2,).\n",
      "[SSAConverter] [3/20] Converting op type: 'Transpose', name: 'conv2d_input_to_nchw', output_shape: (-1, 3, 300, 300).\n",
      "[SSAConverter] [4/20] Converting op type: 'Conv2D', name: 'sequential/conv2d/Conv2D', output_shape: (-1, 32, 300, 300).\n",
      "[SSAConverter] [5/20] Converting op type: 'Relu', name: 'sequential/conv2d/Relu', output_shape: (-1, 32, 300, 300).\n",
      "[SSAConverter] [6/20] Converting op type: 'MaxPool', name: 'sequential/max_pooling2d/MaxPool', output_shape: (-1, 32, -1, -1).\n",
      "[SSAConverter] [7/20] Converting op type: 'Conv2D', name: 'sequential/conv2d_1/Conv2D', output_shape: (-1, 64, -1, -1).\n",
      "[SSAConverter] [8/20] Converting op type: 'Relu', name: 'sequential/conv2d_1/Relu', output_shape: (-1, 64, -1, -1).\n",
      "[SSAConverter] [9/20] Converting op type: 'MaxPool', name: 'sequential/max_pooling2d_1/MaxPool', output_shape: (-1, 64, -1, -1).\n",
      "[SSAConverter] [10/20] Converting op type: 'Conv2D', name: 'sequential/conv2d_2/Conv2D', output_shape: (-1, 32, -1, -1).\n",
      "[SSAConverter] [11/20] Converting op type: 'Relu', name: 'sequential/conv2d_2/Relu', output_shape: (-1, 32, -1, -1).\n",
      "[SSAConverter] [12/20] Converting op type: 'MaxPool', name: 'sequential/max_pooling2d_2/MaxPool', output_shape: (-1, 32, -1, -1).\n",
      "[SSAConverter] [13/20] Converting op type: 'Transpose', name: 'sequential/max_pooling2d_2/MaxPool_to_nhwc', output_shape: (-1, -1, -1, 32).\n",
      "[SSAConverter] [14/20] Converting op type: 'Reshape', name: 'sequential/flatten/Reshape', output_shape: (-1, 43808).\n",
      "[SSAConverter] [15/20] Converting op type: 'MatMul', name: 'sequential/dense/MatMul', output_shape: (-1, 64).\n",
      "[SSAConverter] [16/20] Converting op type: 'Relu', name: 'sequential/dense/Relu', output_shape: (-1, 64).\n",
      "[SSAConverter] [17/20] Converting op type: 'MatMul', name: 'sequential/dense_1/MatMul', output_shape: (-1, 32).\n",
      "[SSAConverter] [18/20] Converting op type: 'Relu', name: 'sequential/dense_1/Relu', output_shape: (-1, 32).\n",
      "[SSAConverter] [19/20] Converting op type: 'MatMul', name: 'sequential/dense_2/MatMul', output_shape: (-1, 6).\n",
      "[SSAConverter] [20/20] Converting op type: 'Softmax', name: 'Identity', output_shape: (-1, 6).\n"
     ]
    }
   ],
   "source": [
    "waste_classifier = coremltools.converters.tensorflow.convert('waste_classifier_model.h5',\n",
    "                                                             input_names=['image'],\n",
    "                                                             output_names=['classLabelProbs','classLabel'],\n",
    "                                                             class_labels=['0','1','2','3','4','5'])\n"
   ]
  },
  {
   "cell_type": "code",
   "execution_count": 25,
   "metadata": {},
   "outputs": [
    {
     "name": "stdout",
     "output_type": "stream",
     "text": [
      "input {\n",
      "  name: \"conv2d_input\"\n",
      "  type {\n",
      "    multiArrayType {\n",
      "      shape: 1\n",
      "      shape: 300\n",
      "      shape: 300\n",
      "      shape: 3\n",
      "      dataType: FLOAT32\n",
      "      shapeRange {\n",
      "        sizeRanges {\n",
      "          lowerBound: 1\n",
      "          upperBound: -1\n",
      "        }\n",
      "        sizeRanges {\n",
      "          lowerBound: 300\n",
      "          upperBound: 300\n",
      "        }\n",
      "        sizeRanges {\n",
      "          lowerBound: 300\n",
      "          upperBound: 300\n",
      "        }\n",
      "        sizeRanges {\n",
      "          lowerBound: 3\n",
      "          upperBound: 3\n",
      "        }\n",
      "      }\n",
      "    }\n",
      "  }\n",
      "}\n",
      "output {\n",
      "  name: \"Identity\"\n",
      "  type {\n",
      "    dictionaryType {\n",
      "      stringKeyType {\n",
      "      }\n",
      "    }\n",
      "  }\n",
      "}\n",
      "output {\n",
      "  name: \"classLabel\"\n",
      "  type {\n",
      "    stringType {\n",
      "    }\n",
      "  }\n",
      "}\n",
      "predictedFeatureName: \"classLabel\"\n",
      "predictedProbabilitiesName: \"Identity\"\n",
      "metadata {\n",
      "  userDefined {\n",
      "    key: \"coremltoolsVersion\"\n",
      "    value: \"3.4\"\n",
      "  }\n",
      "}\n",
      "\n"
     ]
    }
   ],
   "source": [
    "print(waste_classifier)"
   ]
  },
  {
   "cell_type": "markdown",
   "metadata": {},
   "source": [
    "### Provide information"
   ]
  },
  {
   "cell_type": "code",
   "execution_count": 26,
   "metadata": {},
   "outputs": [],
   "source": [
    "waste_classifier.author = 'Rebecca Hallam'\n",
    "waste_classifier.short_description = 'Waste classification with keras on the TrashNet dataset'\n"
   ]
  },
  {
   "cell_type": "markdown",
   "metadata": {},
   "source": [
    "### Save as .mlmodel"
   ]
  },
  {
   "cell_type": "code",
   "execution_count": 27,
   "metadata": {},
   "outputs": [],
   "source": [
    "waste_classifier.save('WasteClassifierV2.mlmodel')"
   ]
  },
  {
   "cell_type": "code",
   "execution_count": null,
   "metadata": {},
   "outputs": [],
   "source": []
  }
 ],
 "metadata": {
  "kernelspec": {
   "display_name": "Python 3",
   "language": "python",
   "name": "python3"
  },
  "language_info": {
   "codemirror_mode": {
    "name": "ipython",
    "version": 3
   },
   "file_extension": ".py",
   "mimetype": "text/x-python",
   "name": "python",
   "nbconvert_exporter": "python",
   "pygments_lexer": "ipython3",
   "version": "3.7.3"
  }
 },
 "nbformat": 4,
 "nbformat_minor": 4
}
