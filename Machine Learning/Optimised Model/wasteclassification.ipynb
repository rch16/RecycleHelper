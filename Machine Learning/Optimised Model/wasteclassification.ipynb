{
  "nbformat": 4,
  "nbformat_minor": 0,
  "metadata": {
    "kernelspec": {
      "display_name": "Python 3",
      "language": "python",
      "name": "python3"
    },
    "language_info": {
      "codemirror_mode": {
        "name": "ipython",
        "version": 3
      },
      "file_extension": ".py",
      "mimetype": "text/x-python",
      "name": "python",
      "nbconvert_exporter": "python",
      "pygments_lexer": "ipython3",
      "version": "3.7.3"
    },
    "colab": {
      "name": "wasteclassification.ipynb",
      "provenance": [],
      "include_colab_link": true
    },
    "accelerator": "GPU"
  },
  "cells": [
    {
      "cell_type": "markdown",
      "metadata": {
        "id": "view-in-github",
        "colab_type": "text"
      },
      "source": [
        "<a href=\"https://colab.research.google.com/github/rch16/RecycleHelper/blob/master/Machine%20Learning/Optimised%20Model/wasteclassification.ipynb\" target=\"_parent\"><img src=\"https://colab.research.google.com/assets/colab-badge.svg\" alt=\"Open In Colab\"/></a>"
      ]
    },
    {
      "cell_type": "code",
      "metadata": {
        "id": "CR3Pl6gxeIWw",
        "colab_type": "code",
        "colab": {
          "base_uri": "https://localhost:8080/",
          "height": 71
        },
        "outputId": "fa772dd5-8b4c-48c6-99e9-751b2c218079"
      },
      "source": [
        "import matplotlib.pyplot as plt\n",
        "import tensorflow.keras\n",
        "import zipfile as zf\n",
        "import numpy as np\n",
        "import seaborn as sns\n",
        "import pandas as pd\n",
        "\n",
        "import sys\n",
        "import cv2\n",
        "import csv\n",
        "import os\n",
        "import re\n",
        "import shutil\n",
        "import random\n",
        "from PIL import Image\n",
        "\n",
        "from sklearn.model_selection import train_test_split\n",
        "from sklearn.metrics import confusion_matrix, classification_report\n",
        "\n",
        "from tensorflow.keras import backend as K\n",
        "from tensorflow.keras.utils import to_categorical \n",
        "from tensorflow.keras.models import Sequential \n",
        "from tensorflow.data import Dataset\n",
        "from tensorflow.keras.preprocessing.image import ImageDataGenerator, img_to_array, load_img, array_to_img\n",
        "from tensorflow.keras.layers import InputLayer, Conv2D, MaxPooling2D, Dense, Dropout, Flatten, BatchNormalization"
      ],
      "execution_count": null,
      "outputs": [
        {
          "output_type": "stream",
          "text": [
            "/usr/local/lib/python3.6/dist-packages/statsmodels/tools/_testing.py:19: FutureWarning: pandas.util.testing is deprecated. Use the functions in the public API at pandas.testing instead.\n",
            "  import pandas.util.testing as tm\n"
          ],
          "name": "stderr"
        }
      ]
    },
    {
      "cell_type": "markdown",
      "metadata": {
        "id": "SvO0RWiXeC--",
        "colab_type": "text"
      },
      "source": [
        "Open Zip File"
      ]
    },
    {
      "cell_type": "code",
      "metadata": {
        "id": "C7QhIZ0cekTw",
        "colab_type": "code",
        "colab": {
          "base_uri": "https://localhost:8080/",
          "height": 34
        },
        "outputId": "a6163dee-5d5b-4238-b3f1-b3a70ff5b30d"
      },
      "source": [
        "files = zf.ZipFile(\"/content/dataset-resized.zip\",'r')\n",
        "files.extractall()\n",
        "files.close()\n",
        "\n",
        "print(files)"
      ],
      "execution_count": null,
      "outputs": [
        {
          "output_type": "stream",
          "text": [
            "<zipfile.ZipFile [closed]>\n"
          ],
          "name": "stdout"
        }
      ]
    },
    {
      "cell_type": "markdown",
      "metadata": {
        "id": "XwRuwX5yeEo0",
        "colab_type": "text"
      },
      "source": [
        "# Attempt 1"
      ]
    },
    {
      "cell_type": "markdown",
      "metadata": {
        "id": "3Ok2boA5eIW3",
        "colab_type": "text"
      },
      "source": [
        "## Helper Functions"
      ]
    },
    {
      "cell_type": "markdown",
      "metadata": {
        "id": "Y65MmEQ_eIW5",
        "colab_type": "text"
      },
      "source": [
        "The following helper functions were written by Collin Ching for his post \"How to build an image classifier for waste sorting\"\n",
        "\n",
        "article : https://towardsdatascience.com/how-to-build-an-image-classifier-for-waste-sorting-6d11d3c9c478\n",
        "\n",
        "python notebook : https://nbviewer.jupyter.org/github/collindching/Waste-Sorter/blob/master/Waste%20sorter.ipynb"
      ]
    },
    {
      "cell_type": "code",
      "metadata": {
        "id": "9mdSLD_reIW6",
        "colab_type": "code",
        "colab": {}
      },
      "source": [
        "# splits indices for a folder into train, validation, and test indices with random sampling   \n",
        "def split_indices(folder,seed1,seed2):    \n",
        "    n = len(os.listdir(folder))\n",
        "    full_set = list(range(1,n+1))\n",
        "\n",
        "    ## train indices\n",
        "    random.seed(seed1)\n",
        "    train = random.sample(list(range(1,n+1)),int(.5*n))\n",
        "\n",
        "    ## temp\n",
        "    remain = list(set(full_set)-set(train))\n",
        "\n",
        "    ## separate remaining into validation and test\n",
        "    random.seed(seed2)\n",
        "    valid = random.sample(remain,int(.5*len(remain)))\n",
        "    test = list(set(remain)-set(valid))\n",
        "    \n",
        "    return(train,valid,test)\n",
        "\n",
        "# gets file names for a particular type of trash, given indices\n",
        "def get_names(waste_type,indices):\n",
        "    file_names = [waste_type+str(i)+\".jpg\" for i in indices]\n",
        "    return(file_names)    \n",
        "\n",
        "# moves group of source files to another folder\n",
        "def move_files(source_files,destination_folder):\n",
        "    for file in source_files:\n",
        "        shutil.move(file,destination_folder)"
      ],
      "execution_count": null,
      "outputs": []
    },
    {
      "cell_type": "code",
      "metadata": {
        "id": "xem8-tA4eIW-",
        "colab_type": "code",
        "colab": {}
      },
      "source": [
        "def create_directory(): \n",
        "    # paths will be train/cardboard, train/glass, etc...\n",
        "    subsets = ['train','valid','test']\n",
        "    waste_types = ['cardboard','glass','metal','paper','plastic','trash']\n",
        "\n",
        "    # create destination folders for data subset and waste type\n",
        "    for subset in subsets:\n",
        "        for waste_type in waste_types:\n",
        "            folder = os.path.join(data_path,subset,waste_type)\n",
        "            if not os.path.exists(folder):\n",
        "                os.makedirs(folder)\n",
        "\n",
        "    if not os.path.exists(os.path.join(data_path,'test')):\n",
        "        os.makedirs(os.path.join(data_path,'test'))\n",
        "\n",
        "    # move files to destination folders for each waste type\n",
        "    for waste_type in waste_types:\n",
        "        source_folder = os.path.join(path,waste_type)\n",
        "        train_ind, valid_ind, test_ind = split_indices(source_folder,1,1)\n",
        "\n",
        "        # move source files to train\n",
        "        train_names = get_names(waste_type,train_ind)\n",
        "        train_source_files = [os.path.join(source_folder,name) for name in train_names]\n",
        "        train_dest = train_path+\"/\"+waste_type\n",
        "        move_files(train_source_files,train_dest)\n",
        "\n",
        "        # move source files to valid\n",
        "        valid_names = get_names(waste_type,valid_ind)\n",
        "        valid_source_files = [os.path.join(source_folder,name) for name in valid_names]\n",
        "        valid_dest = valid_path+\"/\"+waste_type\n",
        "        move_files(valid_source_files,valid_dest)\n",
        "\n",
        "        # move source files to test\n",
        "        test_names = get_names(waste_type,test_ind)\n",
        "        test_source_files = [os.path.join(source_folder,name) for name in test_names]\n",
        "        test_dest = test_path+\"/\"+waste_type\n",
        "        move_files(test_source_files,test_dest)\n",
        "\n",
        "        # I use data/test here because the images can be mixed up\n",
        "        move_files(test_source_files,test_path)"
      ],
      "execution_count": null,
      "outputs": []
    },
    {
      "cell_type": "code",
      "metadata": {
        "id": "rImgeG8deIXD",
        "colab_type": "code",
        "colab": {}
      },
      "source": [
        "def createFileList(myDir, format='.jpg'):\n",
        "    fileList = []\n",
        "    print(myDir)\n",
        "    for root, dirs, files in os.walk(myDir, topdown=False):\n",
        "        for name in files:\n",
        "            if name.endswith(format):\n",
        "                fullName = os.path.join(root, name)\n",
        "                fileList.append(fullName)\n",
        "    return fileList"
      ],
      "execution_count": null,
      "outputs": []
    },
    {
      "cell_type": "markdown",
      "metadata": {
        "id": "80Gv91ymeIXI",
        "colab_type": "text"
      },
      "source": [
        "End of Collin's code"
      ]
    },
    {
      "cell_type": "code",
      "metadata": {
        "id": "-Sc6h2NreIXI",
        "colab_type": "code",
        "colab": {}
      },
      "source": [
        "def stringContains(filePath):\n",
        "    if \"paper\" in filePath:\n",
        "        return 0\n",
        "    elif \"cardboard\" in filePath:\n",
        "        return 1\n",
        "    elif \"trash\" in filePath:\n",
        "        return 2\n",
        "    elif \"plastic\" in filePath:\n",
        "        return 3\n",
        "    elif \"metal\" in filePath:\n",
        "        return 4\n",
        "    elif \"glass\" in filePath:\n",
        "        return 5\n",
        "    else:\n",
        "        return 6\n",
        "\n",
        "def convertToMatrix(fileList,num_images):\n",
        "    \n",
        "    num_pixels = 196608\n",
        "    data = np.empty((num_images,num_pixels))\n",
        "    labels = []\n",
        "    label_count = [0,0,0,0,0,0,0]\n",
        "    index = 0\n",
        "    \n",
        "    for file in fileList:\n",
        "        \n",
        "        img = Image.open(file) # open image\n",
        "        arr = np.array(img.convert('L')) # convert to grey and place in numpy array\n",
        "        vec = arr.ravel() # flatten to vector\n",
        "        data[index,:] = vec.T # add to matrix\n",
        "        \n",
        "        name = stringContains(img.filename) # get image name\n",
        "        labels = np.append(labels,name) # add to array\n",
        "        label_count[name] += 1\n",
        "        \n",
        "        index += 1\n",
        "\n",
        "    return data, labels, label_count"
      ],
      "execution_count": null,
      "outputs": []
    },
    {
      "cell_type": "markdown",
      "metadata": {
        "id": "AJd0al0veIXQ",
        "colab_type": "text"
      },
      "source": [
        "## Import Images"
      ]
    },
    {
      "cell_type": "code",
      "metadata": {
        "id": "I-j4eJTreIXQ",
        "colab_type": "code",
        "colab": {}
      },
      "source": [
        "path = \"/content/dataset-resized\"\n",
        "data_path = \"/content/data\"\n",
        "test_path = \"/content/data/test\"\n",
        "train_path = \"/content/data/train\"\n",
        "valid_path = \"/content/data/valid\""
      ],
      "execution_count": null,
      "outputs": []
    },
    {
      "cell_type": "code",
      "metadata": {
        "id": "kum8ggibgACV",
        "colab_type": "code",
        "colab": {
          "base_uri": "https://localhost:8080/",
          "height": 34
        },
        "outputId": "97b41145-2ecd-4c2a-9388-1189161d5b43"
      },
      "source": [
        "os.listdir(os.path.join(os.getcwd(),\"dataset-resized\"))"
      ],
      "execution_count": null,
      "outputs": [
        {
          "output_type": "execute_result",
          "data": {
            "text/plain": [
              "['plastic', 'metal', 'cardboard', 'trash', '.DS_Store', 'paper', 'glass']"
            ]
          },
          "metadata": {
            "tags": []
          },
          "execution_count": 29
        }
      ]
    },
    {
      "cell_type": "code",
      "metadata": {
        "id": "AVHAYFqAeIXe",
        "colab_type": "code",
        "colab": {
          "base_uri": "https://localhost:8080/",
          "height": 426
        },
        "outputId": "70b4824d-b480-42b9-dba7-e08ff1f66c5a"
      },
      "source": [
        "create_directory()"
      ],
      "execution_count": null,
      "outputs": [
        {
          "output_type": "error",
          "ename": "FileNotFoundError",
          "evalue": "ignored",
          "traceback": [
            "\u001b[0;31m---------------------------------------------------------------------------\u001b[0m",
            "\u001b[0;31mFileNotFoundError\u001b[0m                         Traceback (most recent call last)",
            "\u001b[0;32m/usr/lib/python3.6/shutil.py\u001b[0m in \u001b[0;36mmove\u001b[0;34m(src, dst, copy_function)\u001b[0m\n\u001b[1;32m    549\u001b[0m     \u001b[0;32mtry\u001b[0m\u001b[0;34m:\u001b[0m\u001b[0;34m\u001b[0m\u001b[0;34m\u001b[0m\u001b[0m\n\u001b[0;32m--> 550\u001b[0;31m         \u001b[0mos\u001b[0m\u001b[0;34m.\u001b[0m\u001b[0mrename\u001b[0m\u001b[0;34m(\u001b[0m\u001b[0msrc\u001b[0m\u001b[0;34m,\u001b[0m \u001b[0mreal_dst\u001b[0m\u001b[0;34m)\u001b[0m\u001b[0;34m\u001b[0m\u001b[0;34m\u001b[0m\u001b[0m\n\u001b[0m\u001b[1;32m    551\u001b[0m     \u001b[0;32mexcept\u001b[0m \u001b[0mOSError\u001b[0m\u001b[0;34m:\u001b[0m\u001b[0;34m\u001b[0m\u001b[0;34m\u001b[0m\u001b[0m\n",
            "\u001b[0;31mFileNotFoundError\u001b[0m: [Errno 2] No such file or directory: '/content/dataset-resized/cardboard/cardboard11.jpg' -> '/content/data/test/cardboard11.jpg'",
            "\nDuring handling of the above exception, another exception occurred:\n",
            "\u001b[0;31mFileNotFoundError\u001b[0m                         Traceback (most recent call last)",
            "\u001b[0;32m<ipython-input-22-9ba1c64f62cd>\u001b[0m in \u001b[0;36m<module>\u001b[0;34m()\u001b[0m\n\u001b[0;32m----> 1\u001b[0;31m \u001b[0mcreate_directory\u001b[0m\u001b[0;34m(\u001b[0m\u001b[0;34m)\u001b[0m\u001b[0;34m\u001b[0m\u001b[0;34m\u001b[0m\u001b[0m\n\u001b[0m",
            "\u001b[0;32m<ipython-input-3-e32a2421e7b2>\u001b[0m in \u001b[0;36mcreate_directory\u001b[0;34m()\u001b[0m\n\u001b[1;32m     38\u001b[0m \u001b[0;34m\u001b[0m\u001b[0m\n\u001b[1;32m     39\u001b[0m         \u001b[0;31m# I use data/test here because the images can be mixed up\u001b[0m\u001b[0;34m\u001b[0m\u001b[0;34m\u001b[0m\u001b[0;34m\u001b[0m\u001b[0m\n\u001b[0;32m---> 40\u001b[0;31m         \u001b[0mmove_files\u001b[0m\u001b[0;34m(\u001b[0m\u001b[0mtest_source_files\u001b[0m\u001b[0;34m,\u001b[0m\u001b[0mtest_path\u001b[0m\u001b[0;34m)\u001b[0m\u001b[0;34m\u001b[0m\u001b[0;34m\u001b[0m\u001b[0m\n\u001b[0m",
            "\u001b[0;32m<ipython-input-2-fba41bde1434>\u001b[0m in \u001b[0;36mmove_files\u001b[0;34m(source_files, destination_folder)\u001b[0m\n\u001b[1;32m     26\u001b[0m \u001b[0;32mdef\u001b[0m \u001b[0mmove_files\u001b[0m\u001b[0;34m(\u001b[0m\u001b[0msource_files\u001b[0m\u001b[0;34m,\u001b[0m\u001b[0mdestination_folder\u001b[0m\u001b[0;34m)\u001b[0m\u001b[0;34m:\u001b[0m\u001b[0;34m\u001b[0m\u001b[0;34m\u001b[0m\u001b[0m\n\u001b[1;32m     27\u001b[0m     \u001b[0;32mfor\u001b[0m \u001b[0mfile\u001b[0m \u001b[0;32min\u001b[0m \u001b[0msource_files\u001b[0m\u001b[0;34m:\u001b[0m\u001b[0;34m\u001b[0m\u001b[0;34m\u001b[0m\u001b[0m\n\u001b[0;32m---> 28\u001b[0;31m         \u001b[0mshutil\u001b[0m\u001b[0;34m.\u001b[0m\u001b[0mmove\u001b[0m\u001b[0;34m(\u001b[0m\u001b[0mfile\u001b[0m\u001b[0;34m,\u001b[0m\u001b[0mdestination_folder\u001b[0m\u001b[0;34m)\u001b[0m\u001b[0;34m\u001b[0m\u001b[0;34m\u001b[0m\u001b[0m\n\u001b[0m",
            "\u001b[0;32m/usr/lib/python3.6/shutil.py\u001b[0m in \u001b[0;36mmove\u001b[0;34m(src, dst, copy_function)\u001b[0m\n\u001b[1;32m    562\u001b[0m             \u001b[0mrmtree\u001b[0m\u001b[0;34m(\u001b[0m\u001b[0msrc\u001b[0m\u001b[0;34m)\u001b[0m\u001b[0;34m\u001b[0m\u001b[0;34m\u001b[0m\u001b[0m\n\u001b[1;32m    563\u001b[0m         \u001b[0;32melse\u001b[0m\u001b[0;34m:\u001b[0m\u001b[0;34m\u001b[0m\u001b[0;34m\u001b[0m\u001b[0m\n\u001b[0;32m--> 564\u001b[0;31m             \u001b[0mcopy_function\u001b[0m\u001b[0;34m(\u001b[0m\u001b[0msrc\u001b[0m\u001b[0;34m,\u001b[0m \u001b[0mreal_dst\u001b[0m\u001b[0;34m)\u001b[0m\u001b[0;34m\u001b[0m\u001b[0;34m\u001b[0m\u001b[0m\n\u001b[0m\u001b[1;32m    565\u001b[0m             \u001b[0mos\u001b[0m\u001b[0;34m.\u001b[0m\u001b[0munlink\u001b[0m\u001b[0;34m(\u001b[0m\u001b[0msrc\u001b[0m\u001b[0;34m)\u001b[0m\u001b[0;34m\u001b[0m\u001b[0;34m\u001b[0m\u001b[0m\n\u001b[1;32m    566\u001b[0m     \u001b[0;32mreturn\u001b[0m \u001b[0mreal_dst\u001b[0m\u001b[0;34m\u001b[0m\u001b[0;34m\u001b[0m\u001b[0m\n",
            "\u001b[0;32m/usr/lib/python3.6/shutil.py\u001b[0m in \u001b[0;36mcopy2\u001b[0;34m(src, dst, follow_symlinks)\u001b[0m\n\u001b[1;32m    261\u001b[0m     \u001b[0;32mif\u001b[0m \u001b[0mos\u001b[0m\u001b[0;34m.\u001b[0m\u001b[0mpath\u001b[0m\u001b[0;34m.\u001b[0m\u001b[0misdir\u001b[0m\u001b[0;34m(\u001b[0m\u001b[0mdst\u001b[0m\u001b[0;34m)\u001b[0m\u001b[0;34m:\u001b[0m\u001b[0;34m\u001b[0m\u001b[0;34m\u001b[0m\u001b[0m\n\u001b[1;32m    262\u001b[0m         \u001b[0mdst\u001b[0m \u001b[0;34m=\u001b[0m \u001b[0mos\u001b[0m\u001b[0;34m.\u001b[0m\u001b[0mpath\u001b[0m\u001b[0;34m.\u001b[0m\u001b[0mjoin\u001b[0m\u001b[0;34m(\u001b[0m\u001b[0mdst\u001b[0m\u001b[0;34m,\u001b[0m \u001b[0mos\u001b[0m\u001b[0;34m.\u001b[0m\u001b[0mpath\u001b[0m\u001b[0;34m.\u001b[0m\u001b[0mbasename\u001b[0m\u001b[0;34m(\u001b[0m\u001b[0msrc\u001b[0m\u001b[0;34m)\u001b[0m\u001b[0;34m)\u001b[0m\u001b[0;34m\u001b[0m\u001b[0;34m\u001b[0m\u001b[0m\n\u001b[0;32m--> 263\u001b[0;31m     \u001b[0mcopyfile\u001b[0m\u001b[0;34m(\u001b[0m\u001b[0msrc\u001b[0m\u001b[0;34m,\u001b[0m \u001b[0mdst\u001b[0m\u001b[0;34m,\u001b[0m \u001b[0mfollow_symlinks\u001b[0m\u001b[0;34m=\u001b[0m\u001b[0mfollow_symlinks\u001b[0m\u001b[0;34m)\u001b[0m\u001b[0;34m\u001b[0m\u001b[0;34m\u001b[0m\u001b[0m\n\u001b[0m\u001b[1;32m    264\u001b[0m     \u001b[0mcopystat\u001b[0m\u001b[0;34m(\u001b[0m\u001b[0msrc\u001b[0m\u001b[0;34m,\u001b[0m \u001b[0mdst\u001b[0m\u001b[0;34m,\u001b[0m \u001b[0mfollow_symlinks\u001b[0m\u001b[0;34m=\u001b[0m\u001b[0mfollow_symlinks\u001b[0m\u001b[0;34m)\u001b[0m\u001b[0;34m\u001b[0m\u001b[0;34m\u001b[0m\u001b[0m\n\u001b[1;32m    265\u001b[0m     \u001b[0;32mreturn\u001b[0m \u001b[0mdst\u001b[0m\u001b[0;34m\u001b[0m\u001b[0;34m\u001b[0m\u001b[0m\n",
            "\u001b[0;32m/usr/lib/python3.6/shutil.py\u001b[0m in \u001b[0;36mcopyfile\u001b[0;34m(src, dst, follow_symlinks)\u001b[0m\n\u001b[1;32m    118\u001b[0m         \u001b[0mos\u001b[0m\u001b[0;34m.\u001b[0m\u001b[0msymlink\u001b[0m\u001b[0;34m(\u001b[0m\u001b[0mos\u001b[0m\u001b[0;34m.\u001b[0m\u001b[0mreadlink\u001b[0m\u001b[0;34m(\u001b[0m\u001b[0msrc\u001b[0m\u001b[0;34m)\u001b[0m\u001b[0;34m,\u001b[0m \u001b[0mdst\u001b[0m\u001b[0;34m)\u001b[0m\u001b[0;34m\u001b[0m\u001b[0;34m\u001b[0m\u001b[0m\n\u001b[1;32m    119\u001b[0m     \u001b[0;32melse\u001b[0m\u001b[0;34m:\u001b[0m\u001b[0;34m\u001b[0m\u001b[0;34m\u001b[0m\u001b[0m\n\u001b[0;32m--> 120\u001b[0;31m         \u001b[0;32mwith\u001b[0m \u001b[0mopen\u001b[0m\u001b[0;34m(\u001b[0m\u001b[0msrc\u001b[0m\u001b[0;34m,\u001b[0m \u001b[0;34m'rb'\u001b[0m\u001b[0;34m)\u001b[0m \u001b[0;32mas\u001b[0m \u001b[0mfsrc\u001b[0m\u001b[0;34m:\u001b[0m\u001b[0;34m\u001b[0m\u001b[0;34m\u001b[0m\u001b[0m\n\u001b[0m\u001b[1;32m    121\u001b[0m             \u001b[0;32mwith\u001b[0m \u001b[0mopen\u001b[0m\u001b[0;34m(\u001b[0m\u001b[0mdst\u001b[0m\u001b[0;34m,\u001b[0m \u001b[0;34m'wb'\u001b[0m\u001b[0;34m)\u001b[0m \u001b[0;32mas\u001b[0m \u001b[0mfdst\u001b[0m\u001b[0;34m:\u001b[0m\u001b[0;34m\u001b[0m\u001b[0;34m\u001b[0m\u001b[0m\n\u001b[1;32m    122\u001b[0m                 \u001b[0mcopyfileobj\u001b[0m\u001b[0;34m(\u001b[0m\u001b[0mfsrc\u001b[0m\u001b[0;34m,\u001b[0m \u001b[0mfdst\u001b[0m\u001b[0;34m)\u001b[0m\u001b[0;34m\u001b[0m\u001b[0;34m\u001b[0m\u001b[0m\n",
            "\u001b[0;31mFileNotFoundError\u001b[0m: [Errno 2] No such file or directory: '/content/dataset-resized/cardboard/cardboard11.jpg'"
          ]
        }
      ]
    },
    {
      "cell_type": "code",
      "metadata": {
        "id": "EWZTWyV6eIXj",
        "colab_type": "code",
        "colab": {
          "base_uri": "https://localhost:8080/",
          "height": 85
        },
        "outputId": "a6f171ff-33d5-47f5-b4d1-2e3b18fde0d1"
      },
      "source": [
        "train_files = createFileList(train_path,format='.jpg')\n",
        "test_files = createFileList(test_path,format='.jpg')\n",
        "valid_files = createFileList(valid_path,format='.jpg')\n",
        "fileList = createFileList(path,format='.jpg')"
      ],
      "execution_count": null,
      "outputs": [
        {
          "output_type": "stream",
          "text": [
            "/content/data/train\n",
            "/content/data/test\n",
            "/content/data/valid\n",
            "/content/dataset-resized\n"
          ],
          "name": "stdout"
        }
      ]
    },
    {
      "cell_type": "code",
      "metadata": {
        "id": "KOVlKv5reIXo",
        "colab_type": "code",
        "colab": {
          "base_uri": "https://localhost:8080/",
          "height": 68
        },
        "outputId": "eed1a874-42fa-4613-c511-9988e29313bc"
      },
      "source": [
        "print(len(train_files), \"training images\")\n",
        "print(len(test_files), \"testing images\")\n",
        "print(len(valid_files), \"validation images\")"
      ],
      "execution_count": null,
      "outputs": [
        {
          "output_type": "stream",
          "text": [
            "201 training images\n",
            "101 testing images\n",
            "101 validation images\n"
          ],
          "name": "stdout"
        }
      ]
    },
    {
      "cell_type": "markdown",
      "metadata": {
        "id": "AhKbEW0reIXr",
        "colab_type": "text"
      },
      "source": [
        "## Data Pre-Processing"
      ]
    },
    {
      "cell_type": "markdown",
      "metadata": {
        "id": "n25oMauveIXr",
        "colab_type": "text"
      },
      "source": [
        "Convert images to arrays"
      ]
    },
    {
      "cell_type": "code",
      "metadata": {
        "id": "HuCethooeIXs",
        "colab_type": "code",
        "colab": {
          "base_uri": "https://localhost:8080/",
          "height": 232
        },
        "outputId": "92b16495-5ba4-4c43-8943-69111fe94e85"
      },
      "source": [
        "train,train_l,train_count = convertToMatrix(train_files,1262)\n",
        "test,test_l,test_count = convertToMatrix(test_files,635)\n",
        "valid,valid_l,valid_count = convertToMatrix(valid_files,630)\n",
        "\n",
        "train = train.astype('float32')\n",
        "train_l = train_l.astype('uint8')\n",
        "test = test.astype('float32')\n",
        "test_l = test_l.astype('uint8')\n",
        "valid = valid.astype('float32')\n",
        "valid_l = valid_l.astype('uint8')\n",
        "\n",
        "print(\"data\")\n",
        "print(train.shape)\n",
        "print(test.shape)\n",
        "print(valid.shape)\n",
        "\n",
        "print(\"\")\n",
        "\n",
        "print(\"labels\")\n",
        "print(train_l.shape)\n",
        "print(test_l.shape)\n",
        "print(valid_l.shape)\n",
        "\n",
        "print(\"\")\n",
        "print(\"count\")\n",
        "print(train_count)\n",
        "print(test_count)\n",
        "print(valid_count)"
      ],
      "execution_count": null,
      "outputs": [
        {
          "output_type": "error",
          "ename": "NameError",
          "evalue": "ignored",
          "traceback": [
            "\u001b[0;31m---------------------------------------------------------------------------\u001b[0m",
            "\u001b[0;31mNameError\u001b[0m                                 Traceback (most recent call last)",
            "\u001b[0;32m<ipython-input-11-5c3863992924>\u001b[0m in \u001b[0;36m<module>\u001b[0;34m()\u001b[0m\n\u001b[0;32m----> 1\u001b[0;31m \u001b[0mtrain\u001b[0m\u001b[0;34m,\u001b[0m\u001b[0mtrain_l\u001b[0m\u001b[0;34m,\u001b[0m\u001b[0mtrain_count\u001b[0m \u001b[0;34m=\u001b[0m \u001b[0mconvertToMatrix\u001b[0m\u001b[0;34m(\u001b[0m\u001b[0mtrain_files\u001b[0m\u001b[0;34m,\u001b[0m\u001b[0;36m1262\u001b[0m\u001b[0;34m)\u001b[0m\u001b[0;34m\u001b[0m\u001b[0;34m\u001b[0m\u001b[0m\n\u001b[0m\u001b[1;32m      2\u001b[0m \u001b[0mtest\u001b[0m\u001b[0;34m,\u001b[0m\u001b[0mtest_l\u001b[0m\u001b[0;34m,\u001b[0m\u001b[0mtest_count\u001b[0m \u001b[0;34m=\u001b[0m \u001b[0mconvertToMatrix\u001b[0m\u001b[0;34m(\u001b[0m\u001b[0mtest_files\u001b[0m\u001b[0;34m,\u001b[0m\u001b[0;36m635\u001b[0m\u001b[0;34m)\u001b[0m\u001b[0;34m\u001b[0m\u001b[0;34m\u001b[0m\u001b[0m\n\u001b[1;32m      3\u001b[0m \u001b[0mvalid\u001b[0m\u001b[0;34m,\u001b[0m\u001b[0mvalid_l\u001b[0m\u001b[0;34m,\u001b[0m\u001b[0mvalid_count\u001b[0m \u001b[0;34m=\u001b[0m \u001b[0mconvertToMatrix\u001b[0m\u001b[0;34m(\u001b[0m\u001b[0mvalid_files\u001b[0m\u001b[0;34m,\u001b[0m\u001b[0;36m630\u001b[0m\u001b[0;34m)\u001b[0m\u001b[0;34m\u001b[0m\u001b[0;34m\u001b[0m\u001b[0m\n\u001b[1;32m      4\u001b[0m \u001b[0;34m\u001b[0m\u001b[0m\n\u001b[1;32m      5\u001b[0m \u001b[0mtrain\u001b[0m \u001b[0;34m=\u001b[0m \u001b[0mtrain\u001b[0m\u001b[0;34m.\u001b[0m\u001b[0mastype\u001b[0m\u001b[0;34m(\u001b[0m\u001b[0;34m'float32'\u001b[0m\u001b[0;34m)\u001b[0m\u001b[0;34m\u001b[0m\u001b[0;34m\u001b[0m\u001b[0m\n",
            "\u001b[0;31mNameError\u001b[0m: name 'train_files' is not defined"
          ]
        }
      ]
    },
    {
      "cell_type": "code",
      "metadata": {
        "id": "RUuF9zv-eIXu",
        "colab_type": "code",
        "colab": {
          "base_uri": "https://localhost:8080/",
          "height": 343
        },
        "outputId": "60abd939-0fa5-4e18-e780-5638d76a518d"
      },
      "source": [
        "class_names = ['paper', 'cardboard', 'trash', 'plastic', 'metal','glass']\n",
        "\n",
        "random_idx = []\n",
        "for i in range(25):\n",
        "    random.seed(i)\n",
        "    random_idx.append(random.randrange(0,1262))\n",
        "    \n",
        "plt.figure(figsize=(10,10))\n",
        "for i in range(25):\n",
        "    \n",
        "    plt.subplot(5,5,i+1)\n",
        "    plt.xticks([])\n",
        "    plt.yticks([])\n",
        "    plt.grid(False)\n",
        "    \n",
        "    idx = random_idx[i]\n",
        "    image = train[idx].reshape((384,512))\n",
        "    plt.imshow(image)\n",
        "    plt.xlabel(class_names[train_l[idx]])\n",
        "    \n",
        "plt.show()"
      ],
      "execution_count": null,
      "outputs": [
        {
          "output_type": "error",
          "ename": "NameError",
          "evalue": "ignored",
          "traceback": [
            "\u001b[0;31m---------------------------------------------------------------------------\u001b[0m",
            "\u001b[0;31mNameError\u001b[0m                                 Traceback (most recent call last)",
            "\u001b[0;32m<ipython-input-10-6645d534b17b>\u001b[0m in \u001b[0;36m<module>\u001b[0;34m()\u001b[0m\n\u001b[1;32m     15\u001b[0m \u001b[0;34m\u001b[0m\u001b[0m\n\u001b[1;32m     16\u001b[0m     \u001b[0midx\u001b[0m \u001b[0;34m=\u001b[0m \u001b[0mrandom_idx\u001b[0m\u001b[0;34m[\u001b[0m\u001b[0mi\u001b[0m\u001b[0;34m]\u001b[0m\u001b[0;34m\u001b[0m\u001b[0;34m\u001b[0m\u001b[0m\n\u001b[0;32m---> 17\u001b[0;31m     \u001b[0mimage\u001b[0m \u001b[0;34m=\u001b[0m \u001b[0mtrain\u001b[0m\u001b[0;34m[\u001b[0m\u001b[0midx\u001b[0m\u001b[0;34m]\u001b[0m\u001b[0;34m.\u001b[0m\u001b[0mreshape\u001b[0m\u001b[0;34m(\u001b[0m\u001b[0;34m(\u001b[0m\u001b[0;36m384\u001b[0m\u001b[0;34m,\u001b[0m\u001b[0;36m512\u001b[0m\u001b[0;34m)\u001b[0m\u001b[0;34m)\u001b[0m\u001b[0;34m\u001b[0m\u001b[0;34m\u001b[0m\u001b[0m\n\u001b[0m\u001b[1;32m     18\u001b[0m     \u001b[0mplt\u001b[0m\u001b[0;34m.\u001b[0m\u001b[0mimshow\u001b[0m\u001b[0;34m(\u001b[0m\u001b[0mimage\u001b[0m\u001b[0;34m)\u001b[0m\u001b[0;34m\u001b[0m\u001b[0;34m\u001b[0m\u001b[0m\n\u001b[1;32m     19\u001b[0m     \u001b[0mplt\u001b[0m\u001b[0;34m.\u001b[0m\u001b[0mxlabel\u001b[0m\u001b[0;34m(\u001b[0m\u001b[0mclass_names\u001b[0m\u001b[0;34m[\u001b[0m\u001b[0mtrain_l\u001b[0m\u001b[0;34m[\u001b[0m\u001b[0midx\u001b[0m\u001b[0;34m]\u001b[0m\u001b[0;34m]\u001b[0m\u001b[0;34m)\u001b[0m\u001b[0;34m\u001b[0m\u001b[0;34m\u001b[0m\u001b[0m\n",
            "\u001b[0;31mNameError\u001b[0m: name 'train' is not defined"
          ]
        },
        {
          "output_type": "display_data",
          "data": {
            "image/png": "[encoded data removed]",
            "text/plain": [
              "<Figure size 720x720 with 1 Axes>"
            ]
          },
          "metadata": {
            "tags": []
          }
        }
      ]
    },
    {
      "cell_type": "markdown",
      "metadata": {
        "id": "dMJb5EC0eIXz",
        "colab_type": "text"
      },
      "source": [
        "Convert labels to one hot encoding"
      ]
    },
    {
      "cell_type": "code",
      "metadata": {
        "id": "rl5i3AvweIXz",
        "colab_type": "code",
        "colab": {}
      },
      "source": [
        "train_labels = to_categorical(train_l).astype('uint8')\n",
        "test_labels = to_categorical(test_l).astype('uint8')\n",
        "valid_labels = to_categorical(valid_l).astype('uint8')\n",
        "\n",
        "print(\"Labels:\")\n",
        "print(\"train\", train_l.shape)\n",
        "print(\"test\", test_l.shape)\n",
        "print(\"validate\", valid_l.shape)\n",
        "\n",
        "print(\"\")\n",
        "\n",
        "print(\"One Hot Encoded Labels:\")\n",
        "print(\"train\", train_labels.shape)\n",
        "print(\"test\", test_labels.shape)\n",
        "print(\"validate\", valid_labels.shape)\n",
        "\n",
        "print(\"\")\n",
        "\n",
        "print(train_l[0])\n",
        "print(train_labels[0])"
      ],
      "execution_count": null,
      "outputs": []
    },
    {
      "cell_type": "markdown",
      "metadata": {
        "id": "ommZUFtleIX2",
        "colab_type": "text"
      },
      "source": [
        "Reshape data"
      ]
    },
    {
      "cell_type": "code",
      "metadata": {
        "id": "P4WSrOJreIX3",
        "colab_type": "code",
        "colab": {}
      },
      "source": [
        "rows = 384\n",
        "cols = 512\n",
        "\n",
        "## channel last configuration\n",
        "train_data = train.reshape(train.shape[0],rows,cols,1)\n",
        "test_data = test.reshape(test.shape[0],rows,cols,1)\n",
        "valid_data = valid.reshape(valid.shape[0],rows,cols,1)"
      ],
      "execution_count": null,
      "outputs": []
    },
    {
      "cell_type": "markdown",
      "metadata": {
        "id": "tP2BGcLXeIX6",
        "colab_type": "text"
      },
      "source": [
        "Normalise data"
      ]
    },
    {
      "cell_type": "code",
      "metadata": {
        "id": "kdfq19D0eIX6",
        "colab_type": "code",
        "colab": {}
      },
      "source": [
        "train_data /= 255.0\n",
        "test_data /= 255.0\n",
        "valid_data /= 255.0\n",
        "\n",
        "print(train_data.shape)\n",
        "print(test_data.shape)\n",
        "print(valid_data.shape)"
      ],
      "execution_count": null,
      "outputs": []
    },
    {
      "cell_type": "markdown",
      "metadata": {
        "id": "VHN7hte5eIYE",
        "colab_type": "text"
      },
      "source": [
        "## Model Training"
      ]
    },
    {
      "cell_type": "code",
      "metadata": {
        "id": "zSwN3ViaeIYF",
        "colab_type": "code",
        "colab": {}
      },
      "source": [
        "# input data\n",
        "n_classes = 6\n",
        "rows = 384\n",
        "cols = 512\n",
        "input_shape = (rows,cols,1)\n",
        "\n",
        "# hyperparameters\n",
        "batch_size = 75\n",
        "epochs = 300\n",
        "dropout_prob = 0.2\n",
        "lr = 0.001\n",
        "m = 0.2\n",
        "\n",
        "# model architecture\n",
        "opt = tensorflow.keras.optimizers.SGD(learning_rate=lr, momentum=m)\n",
        "pool_size = 2\n",
        "num_filters1 = 32\n",
        "num_filters2 = 64\n",
        "num_filters3 = 128\n",
        "filter_size = 5\n",
        "filter_size = 5"
      ],
      "execution_count": null,
      "outputs": []
    },
    {
      "cell_type": "code",
      "metadata": {
        "id": "PfpWWtBUsPSF",
        "colab_type": "code",
        "colab": {}
      },
      "source": [
        "print('train ',train_count[0:6])\n",
        "print('test ',test_count[0:6])\n",
        "print('validate ',valid_count[0:6])"
      ],
      "execution_count": null,
      "outputs": []
    },
    {
      "cell_type": "code",
      "metadata": {
        "id": "oK5u7oFWtLWt",
        "colab_type": "code",
        "colab": {}
      },
      "source": [
        "from sklearn.utils import class_weight\n",
        "\n",
        "weights = class_weight.compute_class_weight('balanced', np.unique(train_l), train_l)\n",
        "\n",
        "weights_dict = dict(enumerate(weights))\n",
        "\n",
        "print(weights_dict)"
      ],
      "execution_count": null,
      "outputs": []
    },
    {
      "cell_type": "code",
      "metadata": {
        "id": "QP3qNq0zDyYX",
        "colab_type": "code",
        "colab": {}
      },
      "source": [
        "def waste_classifier_model(): \n",
        "    model = Sequential()\n",
        "\n",
        "    model.add(InputLayer(input_shape=input_shape))\n",
        "\n",
        "    model.add(Dropout(dropout_prob))\n",
        "\n",
        "    model.add(Conv2D(num_filters1,filter_size,activation='relu',data_format=\"channels_last\"))\n",
        "    model.add(MaxPooling2D(pool_size=pool_size))\n",
        "    \n",
        "    model.add(Conv2D(num_filters2,filter_size, activation='relu'))\n",
        "    model.add(MaxPooling2D(pool_size=pool_size))\n",
        "\n",
        "    # the output softmax layer will have one node for each class\n",
        "    model.add(Flatten())\n",
        "    model.add(Dense(n_classes,activation='softmax'))\n",
        "    \n",
        "    opt = tensorflow.keras.optimizers.SGD(learning_rate=lr, momentum=m)\n",
        "    model.compile(loss='mse',optimizer=opt,metrics=['accuracy'])\n",
        "\n",
        "    model.summary()\n",
        "\n",
        "    return model"
      ],
      "execution_count": null,
      "outputs": []
    },
    {
      "cell_type": "markdown",
      "metadata": {
        "id": "6FCc7mdBeIYQ",
        "colab_type": "text"
      },
      "source": [
        "Convert to tensorflow dataset"
      ]
    },
    {
      "cell_type": "code",
      "metadata": {
        "id": "Xv0-H0nieIYQ",
        "colab_type": "code",
        "colab": {}
      },
      "source": [
        "train_dataset = Dataset.from_tensor_slices((train_data, train_labels))\n",
        "test_dataset = Dataset.from_tensor_slices((test_data, test_labels))\n",
        "valid_dataset = Dataset.from_tensor_slices((valid_data, valid_labels))\n",
        "\n",
        "train_dataset = train_dataset.batch(batch_size)\n",
        "test_dataset = test_dataset.batch(batch_size)\n",
        "valid_dataset = valid_dataset.batch(batch_size)\n",
        "\n",
        "print(train_dataset)\n"
      ],
      "execution_count": null,
      "outputs": []
    },
    {
      "cell_type": "code",
      "metadata": {
        "id": "kYG7WgUidn0S",
        "colab_type": "code",
        "colab": {}
      },
      "source": [
        "model = waste_classifier_model()\n",
        "model.fit(train_dataset,epochs=epochs,\n",
        "          class_weights=weights_dict,\n",
        "          verbose=2)"
      ],
      "execution_count": null,
      "outputs": []
    },
    {
      "cell_type": "markdown",
      "metadata": {
        "id": "VV2atA77eOUy",
        "colab_type": "text"
      },
      "source": [
        "# Attempt 2"
      ]
    },
    {
      "cell_type": "markdown",
      "metadata": {
        "id": "3McjDpCieRsH",
        "colab_type": "text"
      },
      "source": [
        "## Data Pre-Processing"
      ]
    },
    {
      "cell_type": "code",
      "metadata": {
        "id": "y2DsIoTCBZmm",
        "colab_type": "code",
        "colab": {
          "base_uri": "https://localhost:8080/",
          "height": 85
        },
        "outputId": "a78b1042-1e67-41c7-eb43-6e3540466571"
      },
      "source": [
        "train = ImageDataGenerator(horizontal_flip=True,\n",
        "                         vertical_flip=True,\n",
        "                         validation_split=0.1,\n",
        "                         rescale=1./255,\n",
        "                         shear_range = 0.1,\n",
        "                         zoom_range = 0.1,\n",
        "                         width_shift_range = 0.1,\n",
        "                         height_shift_range = 0.1,)\n",
        "\n",
        "test = ImageDataGenerator(rescale=1/255,\n",
        "                        validation_split=0.1)\n",
        "\n",
        "train_generator = train.flow_from_directory(\"/content/dataset-resized\",\n",
        "                                          target_size=(300,300),\n",
        "                                          batch_size=32,\n",
        "                                          class_mode='categorical',\n",
        "                                          subset='training')\n",
        "\n",
        "test_generator = test.flow_from_directory(\"/content/dataset-resized\",\n",
        "                                        target_size=(300,300),\n",
        "                                        batch_size=32,\n",
        "                                        class_mode='categorical',\n",
        "                                        subset='validation')\n",
        "\n",
        "labels = (train_generator.class_indices)\n",
        "print(labels)\n",
        "\n",
        "labels = dict((v,k) for k,v in labels.items())\n",
        "print(labels)"
      ],
      "execution_count": null,
      "outputs": [
        {
          "output_type": "stream",
          "text": [
            "Found 2276 images belonging to 6 classes.\n",
            "Found 251 images belonging to 6 classes.\n",
            "{'cardboard': 0, 'glass': 1, 'metal': 2, 'paper': 3, 'plastic': 4, 'trash': 5}\n",
            "{0: 'cardboard', 1: 'glass', 2: 'metal', 3: 'paper', 4: 'plastic', 5: 'trash'}\n"
          ],
          "name": "stdout"
        }
      ]
    },
    {
      "cell_type": "code",
      "metadata": {
        "id": "yM2bFLrnDXNF",
        "colab_type": "code",
        "colab": {
          "base_uri": "https://localhost:8080/",
          "height": 34
        },
        "outputId": "1945bf4f-9756-4aa3-96cc-dd055c0adbca"
      },
      "source": [
        "for image_batch, label_batch in train_generator:\n",
        "  break\n",
        "image_batch.shape, label_batch.shape"
      ],
      "execution_count": null,
      "outputs": [
        {
          "output_type": "execute_result",
          "data": {
            "text/plain": [
              "((32, 300, 300, 3), (32, 6))"
            ]
          },
          "metadata": {
            "tags": []
          },
          "execution_count": 4
        }
      ]
    },
    {
      "cell_type": "markdown",
      "metadata": {
        "id": "IKyBo5xFeXwC",
        "colab_type": "text"
      },
      "source": [
        "## Model Training"
      ]
    },
    {
      "cell_type": "code",
      "metadata": {
        "id": "Cmm9Q22Ou_RX",
        "colab_type": "code",
        "colab": {}
      },
      "source": [
        "# input data\n",
        "n_classes = 6\n",
        "rows = 384\n",
        "cols = 512\n",
        "input_shape = (rows,cols,1)\n",
        "\n",
        "# hyperparameters\n",
        "batch_size = 75\n",
        "epochs = 200\n",
        "dropout_prob = 0.2\n",
        "lr = 0.001\n",
        "m = 0.2"
      ],
      "execution_count": null,
      "outputs": []
    },
    {
      "cell_type": "code",
      "metadata": {
        "id": "5BsLKGrB687t",
        "colab_type": "code",
        "colab": {}
      },
      "source": [
        "def waste_classifier_model_2():\n",
        "    model=Sequential()\n",
        "\n",
        "    #model.add(InputLayer(input_shape=(300,300,3)))\n",
        "\n",
        "    #Convolution blocks\n",
        "\n",
        "    model.add(Conv2D(32,(3,3), padding='same',input_shape=(300,300,3),activation='relu'))\n",
        "    model.add(MaxPooling2D(pool_size=2)) \n",
        "    #model.add(SpatialDropout2D(0.5)) # No accuracy\n",
        "\n",
        "    model.add(Conv2D(64,(3,3), padding='same',activation='relu'))\n",
        "    model.add(MaxPooling2D(pool_size=2)) \n",
        "    #model.add(SpatialDropout2D(0.5))\n",
        "\n",
        "    model.add(Conv2D(32,(3,3), padding='same',activation='relu'))\n",
        "    model.add(MaxPooling2D(pool_size=2)) \n",
        "\n",
        "    #Classification layers\n",
        "    model.add(Flatten())\n",
        "\n",
        "    model.add(Dense(64,activation='relu'))\n",
        "    #model.add(SpatialDropout2D(0.5))\n",
        "    model.add(Dropout(0.2))\n",
        "    model.add(Dense(32,activation='relu'))\n",
        "\n",
        "    model.add(Dropout(0.2))\n",
        "    model.add(Dense(6,activation='softmax'))\n",
        "\n",
        "    opt = tensorflow.keras.optimizers.SGD(learning_rate=lr, momentum=m)\n",
        "    model.compile(loss='categorical_crossentropy',optimizer=opt,metrics=['acc'])\n",
        "\n",
        "    model.summary()\n",
        "\n",
        "    return model"
      ],
      "execution_count": null,
      "outputs": []
    },
    {
      "cell_type": "code",
      "metadata": {
        "id": "i48y3jKZeIYI",
        "colab_type": "code",
        "colab": {
          "base_uri": "https://localhost:8080/",
          "height": 561
        },
        "outputId": "ab0b9f7c-3e79-4ebc-928c-a854b9a5fdb6"
      },
      "source": [
        "K.clear_session()\n",
        "waste_model = waste_classifier_model_2()"
      ],
      "execution_count": null,
      "outputs": [
        {
          "output_type": "stream",
          "text": [
            "Model: \"sequential\"\n",
            "_________________________________________________________________\n",
            "Layer (type)                 Output Shape              Param #   \n",
            "=================================================================\n",
            "conv2d (Conv2D)              (None, 300, 300, 32)      896       \n",
            "_________________________________________________________________\n",
            "max_pooling2d (MaxPooling2D) (None, 150, 150, 32)      0         \n",
            "_________________________________________________________________\n",
            "conv2d_1 (Conv2D)            (None, 150, 150, 64)      18496     \n",
            "_________________________________________________________________\n",
            "max_pooling2d_1 (MaxPooling2 (None, 75, 75, 64)        0         \n",
            "_________________________________________________________________\n",
            "conv2d_2 (Conv2D)            (None, 75, 75, 32)        18464     \n",
            "_________________________________________________________________\n",
            "max_pooling2d_2 (MaxPooling2 (None, 37, 37, 32)        0         \n",
            "_________________________________________________________________\n",
            "flatten (Flatten)            (None, 43808)             0         \n",
            "_________________________________________________________________\n",
            "dense (Dense)                (None, 64)                2803776   \n",
            "_________________________________________________________________\n",
            "dropout (Dropout)            (None, 64)                0         \n",
            "_________________________________________________________________\n",
            "dense_1 (Dense)              (None, 32)                2080      \n",
            "_________________________________________________________________\n",
            "dropout_1 (Dropout)          (None, 32)                0         \n",
            "_________________________________________________________________\n",
            "dense_2 (Dense)              (None, 6)                 198       \n",
            "=================================================================\n",
            "Total params: 2,843,910\n",
            "Trainable params: 2,843,910\n",
            "Non-trainable params: 0\n",
            "_________________________________________________________________\n"
          ],
          "name": "stdout"
        }
      ]
    },
    {
      "cell_type": "code",
      "metadata": {
        "id": "oFP5GQVl7ksZ",
        "colab_type": "code",
        "colab": {}
      },
      "source": [
        "from tensorflow.keras.callbacks import ModelCheckpoint,EarlyStopping\n",
        "\n",
        "filepath=\"waste_classifier_model.h5\"\n",
        "checkpoint1 = ModelCheckpoint(filepath, monitor='val_acc', verbose=1, save_best_only=True, mode='max')\n",
        "callbacks_list = [checkpoint1]"
      ],
      "execution_count": null,
      "outputs": []
    },
    {
      "cell_type": "markdown",
      "metadata": {
        "id": "mi71PYxwwalA",
        "colab_type": "text"
      },
      "source": [
        "Train the model\n"
      ]
    },
    {
      "cell_type": "code",
      "metadata": {
        "id": "8UqJ03SveIYS",
        "colab_type": "code",
        "colab": {
          "base_uri": "https://localhost:8080/",
          "height": 1000
        },
        "outputId": "517e3b1f-4275-428c-d1ed-822f96a840b6"
      },
      "source": [
        "result = waste_model.fit(train_generator,\n",
        "                         epochs=epochs,\n",
        "                         steps_per_epoch=2276//32,\n",
        "                         validation_data=test_generator,\n",
        "                         validation_steps=251//32,\n",
        "                         workers=4,\n",
        "                         callbacks=callbacks_list,\n",
        "                         verbose=2)"
      ],
      "execution_count": null,
      "outputs": [
        {
          "output_type": "stream",
          "text": [
            "Epoch 1/200\n",
            "\n",
            "Epoch 00001: val_acc improved from 0.50893 to 0.52232, saving model to waste_classifier_model.h5\n",
            "71/71 - 39s - loss: 1.2838 - acc: 0.5004 - val_loss: 1.2905 - val_acc: 0.5223\n",
            "Epoch 2/200\n",
            "\n",
            "Epoch 00002: val_acc did not improve from 0.52232\n",
            "71/71 - 39s - loss: 1.2824 - acc: 0.4982 - val_loss: 1.2754 - val_acc: 0.4911\n",
            "Epoch 3/200\n",
            "\n",
            "Epoch 00003: val_acc did not improve from 0.52232\n",
            "71/71 - 38s - loss: 1.3028 - acc: 0.4951 - val_loss: 1.2703 - val_acc: 0.4777\n",
            "Epoch 4/200\n",
            "\n",
            "Epoch 00004: val_acc did not improve from 0.52232\n",
            "71/71 - 38s - loss: 1.2693 - acc: 0.5036 - val_loss: 1.2975 - val_acc: 0.4777\n",
            "Epoch 5/200\n",
            "\n",
            "Epoch 00005: val_acc did not improve from 0.52232\n",
            "71/71 - 39s - loss: 1.2710 - acc: 0.5013 - val_loss: 1.3435 - val_acc: 0.4732\n",
            "Epoch 6/200\n",
            "\n",
            "Epoch 00006: val_acc did not improve from 0.52232\n",
            "71/71 - 38s - loss: 1.2777 - acc: 0.5071 - val_loss: 1.2621 - val_acc: 0.5179\n",
            "Epoch 7/200\n",
            "\n",
            "Epoch 00007: val_acc did not improve from 0.52232\n",
            "71/71 - 39s - loss: 1.2841 - acc: 0.4880 - val_loss: 1.2462 - val_acc: 0.5223\n",
            "Epoch 8/200\n",
            "\n",
            "Epoch 00008: val_acc did not improve from 0.52232\n",
            "71/71 - 39s - loss: 1.2654 - acc: 0.5071 - val_loss: 1.2531 - val_acc: 0.5134\n",
            "Epoch 9/200\n",
            "\n",
            "Epoch 00009: val_acc did not improve from 0.52232\n",
            "71/71 - 38s - loss: 1.2533 - acc: 0.5036 - val_loss: 1.2948 - val_acc: 0.4866\n",
            "Epoch 10/200\n",
            "\n",
            "Epoch 00010: val_acc did not improve from 0.52232\n",
            "71/71 - 39s - loss: 1.2636 - acc: 0.5218 - val_loss: 1.2834 - val_acc: 0.5000\n",
            "Epoch 11/200\n",
            "\n",
            "Epoch 00011: val_acc improved from 0.52232 to 0.52679, saving model to waste_classifier_model.h5\n",
            "71/71 - 38s - loss: 1.2621 - acc: 0.5134 - val_loss: 1.2549 - val_acc: 0.5268\n",
            "Epoch 12/200\n",
            "\n",
            "Epoch 00012: val_acc did not improve from 0.52679\n",
            "71/71 - 39s - loss: 1.2577 - acc: 0.5138 - val_loss: 1.3210 - val_acc: 0.4732\n",
            "Epoch 13/200\n",
            "\n",
            "Epoch 00013: val_acc did not improve from 0.52679\n",
            "71/71 - 38s - loss: 1.2550 - acc: 0.5116 - val_loss: 1.2637 - val_acc: 0.5000\n",
            "Epoch 14/200\n",
            "\n",
            "Epoch 00014: val_acc did not improve from 0.52679\n",
            "71/71 - 38s - loss: 1.2572 - acc: 0.5196 - val_loss: 1.2753 - val_acc: 0.5268\n",
            "Epoch 15/200\n",
            "\n",
            "Epoch 00015: val_acc did not improve from 0.52679\n",
            "71/71 - 38s - loss: 1.2558 - acc: 0.5205 - val_loss: 1.2697 - val_acc: 0.4866\n",
            "Epoch 16/200\n",
            "\n",
            "Epoch 00016: val_acc did not improve from 0.52679\n",
            "71/71 - 38s - loss: 1.2616 - acc: 0.5094 - val_loss: 1.2439 - val_acc: 0.5223\n",
            "Epoch 17/200\n",
            "\n",
            "Epoch 00017: val_acc did not improve from 0.52679\n",
            "71/71 - 38s - loss: 1.2443 - acc: 0.5227 - val_loss: 1.2665 - val_acc: 0.5089\n",
            "Epoch 18/200\n",
            "\n",
            "Epoch 00018: val_acc did not improve from 0.52679\n",
            "71/71 - 38s - loss: 1.2460 - acc: 0.5089 - val_loss: 1.2585 - val_acc: 0.5179\n",
            "Epoch 19/200\n",
            "\n",
            "Epoch 00019: val_acc improved from 0.52679 to 0.54911, saving model to waste_classifier_model.h5\n",
            "71/71 - 38s - loss: 1.2415 - acc: 0.5241 - val_loss: 1.2251 - val_acc: 0.5491\n",
            "Epoch 20/200\n",
            "\n",
            "Epoch 00020: val_acc did not improve from 0.54911\n",
            "71/71 - 39s - loss: 1.2324 - acc: 0.5242 - val_loss: 1.2477 - val_acc: 0.5089\n",
            "Epoch 21/200\n",
            "\n",
            "Epoch 00021: val_acc did not improve from 0.54911\n",
            "71/71 - 38s - loss: 1.2685 - acc: 0.4973 - val_loss: 1.2339 - val_acc: 0.5223\n",
            "Epoch 22/200\n",
            "\n",
            "Epoch 00022: val_acc did not improve from 0.54911\n",
            "71/71 - 38s - loss: 1.2355 - acc: 0.5281 - val_loss: 1.2472 - val_acc: 0.5134\n",
            "Epoch 23/200\n",
            "\n",
            "Epoch 00023: val_acc did not improve from 0.54911\n",
            "71/71 - 38s - loss: 1.2474 - acc: 0.5250 - val_loss: 1.2500 - val_acc: 0.5045\n",
            "Epoch 24/200\n",
            "\n",
            "Epoch 00024: val_acc did not improve from 0.54911\n",
            "71/71 - 39s - loss: 1.2338 - acc: 0.5183 - val_loss: 1.2617 - val_acc: 0.5223\n",
            "Epoch 25/200\n",
            "\n",
            "Epoch 00025: val_acc did not improve from 0.54911\n",
            "71/71 - 38s - loss: 1.2310 - acc: 0.5223 - val_loss: 1.1934 - val_acc: 0.5402\n",
            "Epoch 26/200\n",
            "\n",
            "Epoch 00026: val_acc did not improve from 0.54911\n",
            "71/71 - 38s - loss: 1.2263 - acc: 0.5468 - val_loss: 1.2379 - val_acc: 0.5179\n",
            "Epoch 27/200\n",
            "\n",
            "Epoch 00027: val_acc did not improve from 0.54911\n",
            "71/71 - 39s - loss: 1.2302 - acc: 0.5174 - val_loss: 1.2054 - val_acc: 0.4955\n",
            "Epoch 28/200\n",
            "\n",
            "Epoch 00028: val_acc did not improve from 0.54911\n",
            "71/71 - 39s - loss: 1.2209 - acc: 0.5201 - val_loss: 1.2333 - val_acc: 0.5089\n",
            "Epoch 29/200\n",
            "\n",
            "Epoch 00029: val_acc did not improve from 0.54911\n",
            "71/71 - 39s - loss: 1.2181 - acc: 0.5321 - val_loss: 1.2306 - val_acc: 0.5134\n",
            "Epoch 30/200\n",
            "\n",
            "Epoch 00030: val_acc did not improve from 0.54911\n",
            "71/71 - 39s - loss: 1.2347 - acc: 0.5128 - val_loss: 1.2471 - val_acc: 0.5045\n",
            "Epoch 31/200\n",
            "\n",
            "Epoch 00031: val_acc improved from 0.54911 to 0.55357, saving model to waste_classifier_model.h5\n",
            "71/71 - 38s - loss: 1.2370 - acc: 0.5178 - val_loss: 1.1788 - val_acc: 0.5536\n",
            "Epoch 32/200\n",
            "\n",
            "Epoch 00032: val_acc did not improve from 0.55357\n",
            "71/71 - 38s - loss: 1.2143 - acc: 0.5285 - val_loss: 1.1871 - val_acc: 0.5268\n",
            "Epoch 33/200\n",
            "\n",
            "Epoch 00033: val_acc did not improve from 0.55357\n",
            "71/71 - 38s - loss: 1.2213 - acc: 0.5325 - val_loss: 1.2019 - val_acc: 0.5312\n",
            "Epoch 34/200\n",
            "\n",
            "Epoch 00034: val_acc did not improve from 0.55357\n",
            "71/71 - 38s - loss: 1.2018 - acc: 0.5285 - val_loss: 1.2394 - val_acc: 0.5179\n",
            "Epoch 35/200\n",
            "\n",
            "Epoch 00035: val_acc did not improve from 0.55357\n",
            "71/71 - 38s - loss: 1.2137 - acc: 0.5307 - val_loss: 1.1977 - val_acc: 0.5268\n",
            "Epoch 36/200\n",
            "\n",
            "Epoch 00036: val_acc did not improve from 0.55357\n",
            "71/71 - 38s - loss: 1.2084 - acc: 0.5419 - val_loss: 1.2169 - val_acc: 0.5357\n",
            "Epoch 37/200\n",
            "\n",
            "Epoch 00037: val_acc did not improve from 0.55357\n",
            "71/71 - 38s - loss: 1.2084 - acc: 0.5307 - val_loss: 1.2009 - val_acc: 0.5268\n",
            "Epoch 38/200\n",
            "\n",
            "Epoch 00038: val_acc improved from 0.55357 to 0.57589, saving model to waste_classifier_model.h5\n",
            "71/71 - 38s - loss: 1.2179 - acc: 0.5307 - val_loss: 1.1484 - val_acc: 0.5759\n",
            "Epoch 39/200\n",
            "\n",
            "Epoch 00039: val_acc did not improve from 0.57589\n",
            "71/71 - 38s - loss: 1.2022 - acc: 0.5383 - val_loss: 1.2218 - val_acc: 0.5134\n",
            "Epoch 40/200\n",
            "\n",
            "Epoch 00040: val_acc did not improve from 0.57589\n",
            "71/71 - 38s - loss: 1.2128 - acc: 0.5214 - val_loss: 1.1833 - val_acc: 0.5357\n",
            "Epoch 41/200\n",
            "\n",
            "Epoch 00041: val_acc did not improve from 0.57589\n",
            "71/71 - 38s - loss: 1.1870 - acc: 0.5410 - val_loss: 1.2128 - val_acc: 0.5179\n",
            "Epoch 42/200\n",
            "\n",
            "Epoch 00042: val_acc did not improve from 0.57589\n",
            "71/71 - 38s - loss: 1.2062 - acc: 0.5303 - val_loss: 1.1687 - val_acc: 0.5580\n",
            "Epoch 43/200\n",
            "\n",
            "Epoch 00043: val_acc did not improve from 0.57589\n",
            "71/71 - 39s - loss: 1.2030 - acc: 0.5432 - val_loss: 1.1909 - val_acc: 0.5312\n",
            "Epoch 44/200\n",
            "\n",
            "Epoch 00044: val_acc improved from 0.57589 to 0.58036, saving model to waste_classifier_model.h5\n",
            "71/71 - 38s - loss: 1.2142 - acc: 0.5392 - val_loss: 1.1666 - val_acc: 0.5804\n",
            "Epoch 45/200\n",
            "\n",
            "Epoch 00045: val_acc did not improve from 0.58036\n",
            "71/71 - 38s - loss: 1.1898 - acc: 0.5432 - val_loss: 1.2051 - val_acc: 0.5402\n",
            "Epoch 46/200\n",
            "\n",
            "Epoch 00046: val_acc did not improve from 0.58036\n",
            "71/71 - 39s - loss: 1.1683 - acc: 0.5575 - val_loss: 1.1658 - val_acc: 0.5759\n",
            "Epoch 47/200\n",
            "\n",
            "Epoch 00047: val_acc did not improve from 0.58036\n",
            "71/71 - 38s - loss: 1.1661 - acc: 0.5414 - val_loss: 1.1694 - val_acc: 0.5536\n",
            "Epoch 48/200\n",
            "\n",
            "Epoch 00048: val_acc did not improve from 0.58036\n",
            "71/71 - 38s - loss: 1.2073 - acc: 0.5303 - val_loss: 1.1911 - val_acc: 0.5402\n",
            "Epoch 49/200\n",
            "\n",
            "Epoch 00049: val_acc did not improve from 0.58036\n",
            "71/71 - 39s - loss: 1.1687 - acc: 0.5472 - val_loss: 1.1594 - val_acc: 0.5580\n",
            "Epoch 50/200\n",
            "\n",
            "Epoch 00050: val_acc did not improve from 0.58036\n",
            "71/71 - 40s - loss: 1.1893 - acc: 0.5410 - val_loss: 1.1758 - val_acc: 0.5491\n",
            "Epoch 51/200\n",
            "\n",
            "Epoch 00051: val_acc did not improve from 0.58036\n",
            "71/71 - 38s - loss: 1.1656 - acc: 0.5535 - val_loss: 1.1533 - val_acc: 0.5491\n",
            "Epoch 52/200\n",
            "\n",
            "Epoch 00052: val_acc did not improve from 0.58036\n",
            "71/71 - 39s - loss: 1.1834 - acc: 0.5419 - val_loss: 1.1764 - val_acc: 0.5402\n",
            "Epoch 53/200\n",
            "\n",
            "Epoch 00053: val_acc improved from 0.58036 to 0.58929, saving model to waste_classifier_model.h5\n",
            "71/71 - 42s - loss: 1.1872 - acc: 0.5392 - val_loss: 1.1325 - val_acc: 0.5893\n",
            "Epoch 54/200\n",
            "\n",
            "Epoch 00054: val_acc did not improve from 0.58929\n",
            "71/71 - 39s - loss: 1.1879 - acc: 0.5450 - val_loss: 1.1633 - val_acc: 0.5804\n",
            "Epoch 55/200\n",
            "\n",
            "Epoch 00055: val_acc did not improve from 0.58929\n",
            "71/71 - 39s - loss: 1.1586 - acc: 0.5646 - val_loss: 1.1802 - val_acc: 0.5446\n",
            "Epoch 56/200\n",
            "\n",
            "Epoch 00056: val_acc did not improve from 0.58929\n",
            "71/71 - 39s - loss: 1.1877 - acc: 0.5450 - val_loss: 1.1430 - val_acc: 0.5625\n",
            "Epoch 57/200\n",
            "\n",
            "Epoch 00057: val_acc did not improve from 0.58929\n",
            "71/71 - 39s - loss: 1.1650 - acc: 0.5584 - val_loss: 1.1500 - val_acc: 0.5491\n",
            "Epoch 58/200\n",
            "\n",
            "Epoch 00058: val_acc did not improve from 0.58929\n",
            "71/71 - 39s - loss: 1.1592 - acc: 0.5570 - val_loss: 1.1366 - val_acc: 0.5580\n",
            "Epoch 59/200\n",
            "\n",
            "Epoch 00059: val_acc did not improve from 0.58929\n",
            "71/71 - 38s - loss: 1.1516 - acc: 0.5557 - val_loss: 1.2816 - val_acc: 0.4688\n",
            "Epoch 60/200\n",
            "\n",
            "Epoch 00060: val_acc did not improve from 0.58929\n",
            "71/71 - 39s - loss: 1.1629 - acc: 0.5566 - val_loss: 1.1556 - val_acc: 0.5580\n",
            "Epoch 61/200\n",
            "\n",
            "Epoch 00061: val_acc did not improve from 0.58929\n",
            "71/71 - 38s - loss: 1.1552 - acc: 0.5477 - val_loss: 1.1374 - val_acc: 0.5670\n",
            "Epoch 62/200\n",
            "\n",
            "Epoch 00062: val_acc did not improve from 0.58929\n",
            "71/71 - 38s - loss: 1.1403 - acc: 0.5660 - val_loss: 1.1412 - val_acc: 0.5580\n",
            "Epoch 63/200\n",
            "\n",
            "Epoch 00063: val_acc did not improve from 0.58929\n",
            "71/71 - 38s - loss: 1.1478 - acc: 0.5593 - val_loss: 1.2422 - val_acc: 0.5357\n",
            "Epoch 64/200\n",
            "\n",
            "Epoch 00064: val_acc did not improve from 0.58929\n",
            "71/71 - 38s - loss: 1.1523 - acc: 0.5646 - val_loss: 1.1390 - val_acc: 0.5625\n",
            "Epoch 65/200\n",
            "\n",
            "Epoch 00065: val_acc did not improve from 0.58929\n",
            "71/71 - 38s - loss: 1.1701 - acc: 0.5584 - val_loss: 1.1677 - val_acc: 0.5536\n",
            "Epoch 66/200\n",
            "\n",
            "Epoch 00066: val_acc did not improve from 0.58929\n",
            "71/71 - 38s - loss: 1.1430 - acc: 0.5633 - val_loss: 1.1322 - val_acc: 0.5670\n",
            "Epoch 67/200\n",
            "\n",
            "Epoch 00067: val_acc did not improve from 0.58929\n",
            "71/71 - 38s - loss: 1.1323 - acc: 0.5691 - val_loss: 1.1494 - val_acc: 0.5446\n",
            "Epoch 68/200\n",
            "\n",
            "Epoch 00068: val_acc did not improve from 0.58929\n",
            "71/71 - 38s - loss: 1.1621 - acc: 0.5504 - val_loss: 1.1421 - val_acc: 0.5580\n",
            "Epoch 69/200\n",
            "\n",
            "Epoch 00069: val_acc did not improve from 0.58929\n",
            "71/71 - 39s - loss: 1.1444 - acc: 0.5597 - val_loss: 1.1501 - val_acc: 0.5804\n",
            "Epoch 70/200\n",
            "\n",
            "Epoch 00070: val_acc did not improve from 0.58929\n",
            "71/71 - 38s - loss: 1.1353 - acc: 0.5637 - val_loss: 1.0806 - val_acc: 0.5714\n",
            "Epoch 71/200\n",
            "\n",
            "Epoch 00071: val_acc did not improve from 0.58929\n",
            "71/71 - 38s - loss: 1.1511 - acc: 0.5561 - val_loss: 1.1146 - val_acc: 0.5714\n",
            "Epoch 72/200\n",
            "\n",
            "Epoch 00072: val_acc did not improve from 0.58929\n",
            "71/71 - 38s - loss: 1.1437 - acc: 0.5766 - val_loss: 1.1389 - val_acc: 0.5714\n",
            "Epoch 73/200\n",
            "\n",
            "Epoch 00073: val_acc did not improve from 0.58929\n",
            "71/71 - 38s - loss: 1.1171 - acc: 0.5749 - val_loss: 1.0963 - val_acc: 0.5893\n",
            "Epoch 74/200\n",
            "\n",
            "Epoch 00074: val_acc did not improve from 0.58929\n",
            "71/71 - 38s - loss: 1.1260 - acc: 0.5762 - val_loss: 1.6706 - val_acc: 0.3170\n",
            "Epoch 75/200\n",
            "\n",
            "Epoch 00075: val_acc improved from 0.58929 to 0.59375, saving model to waste_classifier_model.h5\n",
            "71/71 - 39s - loss: 1.1619 - acc: 0.5553 - val_loss: 1.0710 - val_acc: 0.5938\n",
            "Epoch 76/200\n",
            "\n",
            "Epoch 00076: val_acc did not improve from 0.59375\n",
            "71/71 - 38s - loss: 1.1611 - acc: 0.5508 - val_loss: 1.1347 - val_acc: 0.5670\n",
            "Epoch 77/200\n",
            "\n",
            "Epoch 00077: val_acc improved from 0.59375 to 0.62054, saving model to waste_classifier_model.h5\n",
            "71/71 - 39s - loss: 1.1220 - acc: 0.5731 - val_loss: 1.0674 - val_acc: 0.6205\n",
            "Epoch 78/200\n",
            "\n",
            "Epoch 00078: val_acc did not improve from 0.62054\n",
            "71/71 - 38s - loss: 1.1116 - acc: 0.5740 - val_loss: 1.1354 - val_acc: 0.5491\n",
            "Epoch 79/200\n",
            "\n",
            "Epoch 00079: val_acc did not improve from 0.62054\n",
            "71/71 - 38s - loss: 1.1197 - acc: 0.5789 - val_loss: 1.0931 - val_acc: 0.5848\n",
            "Epoch 80/200\n",
            "\n",
            "Epoch 00080: val_acc did not improve from 0.62054\n",
            "71/71 - 38s - loss: 1.1134 - acc: 0.5811 - val_loss: 1.1067 - val_acc: 0.5714\n",
            "Epoch 81/200\n",
            "\n",
            "Epoch 00081: val_acc did not improve from 0.62054\n",
            "71/71 - 39s - loss: 1.1110 - acc: 0.5753 - val_loss: 1.0862 - val_acc: 0.5848\n",
            "Epoch 82/200\n",
            "\n",
            "Epoch 00082: val_acc did not improve from 0.62054\n",
            "71/71 - 38s - loss: 1.1204 - acc: 0.5753 - val_loss: 1.1697 - val_acc: 0.5357\n",
            "Epoch 83/200\n",
            "\n",
            "Epoch 00083: val_acc did not improve from 0.62054\n",
            "71/71 - 38s - loss: 1.1200 - acc: 0.5753 - val_loss: 1.1163 - val_acc: 0.5714\n",
            "Epoch 84/200\n",
            "\n",
            "Epoch 00084: val_acc did not improve from 0.62054\n",
            "71/71 - 39s - loss: 1.0974 - acc: 0.5949 - val_loss: 1.1030 - val_acc: 0.5670\n",
            "Epoch 85/200\n",
            "\n",
            "Epoch 00085: val_acc did not improve from 0.62054\n",
            "71/71 - 39s - loss: 1.0979 - acc: 0.5824 - val_loss: 1.1379 - val_acc: 0.5580\n",
            "Epoch 86/200\n",
            "\n",
            "Epoch 00086: val_acc did not improve from 0.62054\n",
            "71/71 - 38s - loss: 1.1130 - acc: 0.5766 - val_loss: 1.1698 - val_acc: 0.5446\n",
            "Epoch 87/200\n",
            "\n",
            "Epoch 00087: val_acc did not improve from 0.62054\n",
            "71/71 - 39s - loss: 1.1145 - acc: 0.5793 - val_loss: 1.1154 - val_acc: 0.5804\n",
            "Epoch 88/200\n",
            "\n",
            "Epoch 00088: val_acc did not improve from 0.62054\n",
            "71/71 - 39s - loss: 1.1158 - acc: 0.5789 - val_loss: 1.1043 - val_acc: 0.5804\n",
            "Epoch 89/200\n",
            "\n",
            "Epoch 00089: val_acc did not improve from 0.62054\n",
            "71/71 - 38s - loss: 1.1137 - acc: 0.5709 - val_loss: 1.1298 - val_acc: 0.5312\n",
            "Epoch 90/200\n",
            "\n",
            "Epoch 00090: val_acc did not improve from 0.62054\n",
            "71/71 - 38s - loss: 1.0884 - acc: 0.5918 - val_loss: 1.0976 - val_acc: 0.5893\n",
            "Epoch 91/200\n",
            "\n",
            "Epoch 00091: val_acc did not improve from 0.62054\n",
            "71/71 - 38s - loss: 1.0974 - acc: 0.5891 - val_loss: 1.1016 - val_acc: 0.5848\n",
            "Epoch 92/200\n",
            "\n",
            "Epoch 00092: val_acc did not improve from 0.62054\n",
            "71/71 - 38s - loss: 1.0917 - acc: 0.5954 - val_loss: 1.0628 - val_acc: 0.5982\n",
            "Epoch 93/200\n",
            "\n",
            "Epoch 00093: val_acc did not improve from 0.62054\n",
            "71/71 - 38s - loss: 1.0898 - acc: 0.5851 - val_loss: 1.0787 - val_acc: 0.5848\n",
            "Epoch 94/200\n",
            "\n",
            "Epoch 00094: val_acc did not improve from 0.62054\n",
            "71/71 - 38s - loss: 1.1065 - acc: 0.5820 - val_loss: 1.1127 - val_acc: 0.5848\n",
            "Epoch 95/200\n",
            "\n",
            "Epoch 00095: val_acc did not improve from 0.62054\n",
            "71/71 - 39s - loss: 1.0877 - acc: 0.5842 - val_loss: 1.0377 - val_acc: 0.5938\n",
            "Epoch 96/200\n",
            "\n",
            "Epoch 00096: val_acc did not improve from 0.62054\n",
            "71/71 - 38s - loss: 1.0950 - acc: 0.6016 - val_loss: 1.0547 - val_acc: 0.6116\n",
            "Epoch 97/200\n",
            "\n",
            "Epoch 00097: val_acc did not improve from 0.62054\n",
            "71/71 - 38s - loss: 1.0795 - acc: 0.5860 - val_loss: 1.0667 - val_acc: 0.6027\n",
            "Epoch 98/200\n",
            "\n",
            "Epoch 00098: val_acc did not improve from 0.62054\n",
            "71/71 - 38s - loss: 1.0878 - acc: 0.5798 - val_loss: 1.0752 - val_acc: 0.6116\n",
            "Epoch 99/200\n",
            "\n",
            "Epoch 00099: val_acc did not improve from 0.62054\n",
            "71/71 - 38s - loss: 1.1078 - acc: 0.5914 - val_loss: 1.0783 - val_acc: 0.5893\n",
            "Epoch 100/200\n",
            "\n",
            "Epoch 00100: val_acc did not improve from 0.62054\n",
            "71/71 - 38s - loss: 1.0857 - acc: 0.5851 - val_loss: 1.0651 - val_acc: 0.5938\n",
            "Epoch 101/200\n",
            "\n",
            "Epoch 00101: val_acc did not improve from 0.62054\n",
            "71/71 - 38s - loss: 1.0794 - acc: 0.5860 - val_loss: 1.0201 - val_acc: 0.5982\n",
            "Epoch 102/200\n",
            "\n",
            "Epoch 00102: val_acc improved from 0.62054 to 0.62946, saving model to waste_classifier_model.h5\n",
            "71/71 - 38s - loss: 1.1125 - acc: 0.5851 - val_loss: 1.0409 - val_acc: 0.6295\n",
            "Epoch 103/200\n",
            "\n",
            "Epoch 00103: val_acc did not improve from 0.62946\n",
            "71/71 - 38s - loss: 1.0668 - acc: 0.6127 - val_loss: 1.0262 - val_acc: 0.6116\n",
            "Epoch 104/200\n",
            "\n",
            "Epoch 00104: val_acc improved from 0.62946 to 0.63393, saving model to waste_classifier_model.h5\n",
            "71/71 - 39s - loss: 1.0601 - acc: 0.6061 - val_loss: 1.0549 - val_acc: 0.6339\n",
            "Epoch 105/200\n",
            "\n",
            "Epoch 00105: val_acc did not improve from 0.63393\n",
            "71/71 - 38s - loss: 1.0846 - acc: 0.5963 - val_loss: 1.0784 - val_acc: 0.5804\n",
            "Epoch 106/200\n",
            "\n",
            "Epoch 00106: val_acc did not improve from 0.63393\n",
            "71/71 - 38s - loss: 1.0677 - acc: 0.5900 - val_loss: 1.0620 - val_acc: 0.6071\n",
            "Epoch 107/200\n",
            "\n",
            "Epoch 00107: val_acc did not improve from 0.63393\n",
            "71/71 - 38s - loss: 1.0714 - acc: 0.5860 - val_loss: 1.0665 - val_acc: 0.6205\n",
            "Epoch 108/200\n",
            "\n",
            "Epoch 00108: val_acc did not improve from 0.63393\n",
            "71/71 - 38s - loss: 1.0614 - acc: 0.6020 - val_loss: 1.0546 - val_acc: 0.5982\n",
            "Epoch 109/200\n",
            "\n",
            "Epoch 00109: val_acc did not improve from 0.63393\n",
            "71/71 - 38s - loss: 1.0675 - acc: 0.5878 - val_loss: 1.0226 - val_acc: 0.6295\n",
            "Epoch 110/200\n",
            "\n",
            "Epoch 00110: val_acc did not improve from 0.63393\n",
            "71/71 - 38s - loss: 1.0665 - acc: 0.6078 - val_loss: 1.1003 - val_acc: 0.5893\n",
            "Epoch 111/200\n",
            "\n",
            "Epoch 00111: val_acc did not improve from 0.63393\n",
            "71/71 - 38s - loss: 1.0574 - acc: 0.6078 - val_loss: 1.0687 - val_acc: 0.6161\n",
            "Epoch 112/200\n",
            "\n",
            "Epoch 00112: val_acc did not improve from 0.63393\n",
            "71/71 - 38s - loss: 1.0643 - acc: 0.5909 - val_loss: 1.0150 - val_acc: 0.6339\n",
            "Epoch 113/200\n",
            "\n",
            "Epoch 00113: val_acc did not improve from 0.63393\n",
            "71/71 - 38s - loss: 1.0624 - acc: 0.6056 - val_loss: 1.0532 - val_acc: 0.5938\n",
            "Epoch 114/200\n",
            "\n",
            "Epoch 00114: val_acc did not improve from 0.63393\n",
            "71/71 - 38s - loss: 1.0502 - acc: 0.6038 - val_loss: 1.0328 - val_acc: 0.6295\n",
            "Epoch 115/200\n",
            "\n",
            "Epoch 00115: val_acc did not improve from 0.63393\n",
            "71/71 - 38s - loss: 1.0447 - acc: 0.6074 - val_loss: 1.0453 - val_acc: 0.5893\n",
            "Epoch 116/200\n",
            "\n",
            "Epoch 00116: val_acc did not improve from 0.63393\n",
            "71/71 - 38s - loss: 1.0660 - acc: 0.6020 - val_loss: 1.0403 - val_acc: 0.6161\n",
            "Epoch 117/200\n",
            "\n",
            "Epoch 00117: val_acc improved from 0.63393 to 0.65179, saving model to waste_classifier_model.h5\n",
            "71/71 - 38s - loss: 1.0618 - acc: 0.6025 - val_loss: 1.0053 - val_acc: 0.6518\n",
            "Epoch 118/200\n",
            "\n",
            "Epoch 00118: val_acc did not improve from 0.65179\n",
            "71/71 - 38s - loss: 1.0449 - acc: 0.6025 - val_loss: 1.0398 - val_acc: 0.6116\n",
            "Epoch 119/200\n",
            "\n",
            "Epoch 00119: val_acc did not improve from 0.65179\n",
            "71/71 - 38s - loss: 1.0780 - acc: 0.5980 - val_loss: 0.9923 - val_acc: 0.6429\n",
            "Epoch 120/200\n",
            "\n",
            "Epoch 00120: val_acc did not improve from 0.65179\n",
            "71/71 - 38s - loss: 1.0480 - acc: 0.6025 - val_loss: 1.0226 - val_acc: 0.6205\n",
            "Epoch 121/200\n",
            "\n",
            "Epoch 00121: val_acc did not improve from 0.65179\n",
            "71/71 - 38s - loss: 1.0407 - acc: 0.6163 - val_loss: 1.0259 - val_acc: 0.6339\n",
            "Epoch 122/200\n",
            "\n",
            "Epoch 00122: val_acc did not improve from 0.65179\n",
            "71/71 - 38s - loss: 1.0380 - acc: 0.6029 - val_loss: 1.0281 - val_acc: 0.6116\n",
            "Epoch 123/200\n",
            "\n",
            "Epoch 00123: val_acc did not improve from 0.65179\n",
            "71/71 - 38s - loss: 1.0423 - acc: 0.6043 - val_loss: 1.0090 - val_acc: 0.6339\n",
            "Epoch 124/200\n",
            "\n",
            "Epoch 00124: val_acc did not improve from 0.65179\n",
            "71/71 - 38s - loss: 1.0255 - acc: 0.6217 - val_loss: 1.0126 - val_acc: 0.6429\n",
            "Epoch 125/200\n",
            "\n",
            "Epoch 00125: val_acc did not improve from 0.65179\n",
            "71/71 - 38s - loss: 1.0399 - acc: 0.5985 - val_loss: 0.9935 - val_acc: 0.6295\n",
            "Epoch 126/200\n",
            "\n",
            "Epoch 00126: val_acc did not improve from 0.65179\n",
            "71/71 - 38s - loss: 1.0160 - acc: 0.6194 - val_loss: 1.0860 - val_acc: 0.5848\n",
            "Epoch 127/200\n",
            "\n",
            "Epoch 00127: val_acc did not improve from 0.65179\n",
            "71/71 - 38s - loss: 1.0135 - acc: 0.6230 - val_loss: 0.9959 - val_acc: 0.6518\n",
            "Epoch 128/200\n",
            "\n",
            "Epoch 00128: val_acc did not improve from 0.65179\n",
            "71/71 - 38s - loss: 1.0216 - acc: 0.6185 - val_loss: 0.9878 - val_acc: 0.6473\n",
            "Epoch 129/200\n",
            "\n",
            "Epoch 00129: val_acc did not improve from 0.65179\n",
            "71/71 - 38s - loss: 1.0357 - acc: 0.6243 - val_loss: 1.0031 - val_acc: 0.6250\n",
            "Epoch 130/200\n",
            "\n",
            "Epoch 00130: val_acc did not improve from 0.65179\n",
            "71/71 - 38s - loss: 1.0130 - acc: 0.6145 - val_loss: 1.0375 - val_acc: 0.6518\n",
            "Epoch 131/200\n",
            "\n",
            "Epoch 00131: val_acc did not improve from 0.65179\n",
            "71/71 - 38s - loss: 1.0331 - acc: 0.6225 - val_loss: 0.9871 - val_acc: 0.6429\n",
            "Epoch 132/200\n",
            "\n",
            "Epoch 00132: val_acc did not improve from 0.65179\n",
            "71/71 - 38s - loss: 1.0216 - acc: 0.6243 - val_loss: 0.9860 - val_acc: 0.6473\n",
            "Epoch 133/200\n",
            "\n",
            "Epoch 00133: val_acc improved from 0.65179 to 0.65625, saving model to waste_classifier_model.h5\n",
            "71/71 - 38s - loss: 1.0061 - acc: 0.6275 - val_loss: 0.9527 - val_acc: 0.6562\n",
            "Epoch 134/200\n",
            "\n",
            "Epoch 00134: val_acc did not improve from 0.65625\n",
            "71/71 - 38s - loss: 1.0151 - acc: 0.6159 - val_loss: 0.9978 - val_acc: 0.6384\n",
            "Epoch 135/200\n",
            "\n",
            "Epoch 00135: val_acc did not improve from 0.65625\n",
            "71/71 - 38s - loss: 1.0132 - acc: 0.6248 - val_loss: 0.9519 - val_acc: 0.6473\n",
            "Epoch 136/200\n",
            "\n",
            "Epoch 00136: val_acc improved from 0.65625 to 0.66071, saving model to waste_classifier_model.h5\n",
            "71/71 - 38s - loss: 1.0144 - acc: 0.6199 - val_loss: 1.0059 - val_acc: 0.6607\n",
            "Epoch 137/200\n",
            "\n",
            "Epoch 00137: val_acc did not improve from 0.66071\n",
            "71/71 - 38s - loss: 1.0279 - acc: 0.6181 - val_loss: 1.0585 - val_acc: 0.6071\n",
            "Epoch 138/200\n",
            "\n",
            "Epoch 00138: val_acc did not improve from 0.66071\n",
            "71/71 - 40s - loss: 1.0078 - acc: 0.6194 - val_loss: 0.9951 - val_acc: 0.6473\n",
            "Epoch 139/200\n",
            "\n",
            "Epoch 00139: val_acc did not improve from 0.66071\n",
            "71/71 - 38s - loss: 1.0133 - acc: 0.6212 - val_loss: 0.9621 - val_acc: 0.6473\n",
            "Epoch 140/200\n",
            "\n",
            "Epoch 00140: val_acc improved from 0.66071 to 0.68304, saving model to waste_classifier_model.h5\n",
            "71/71 - 38s - loss: 1.0085 - acc: 0.6225 - val_loss: 0.9593 - val_acc: 0.6830\n",
            "Epoch 141/200\n",
            "\n",
            "Epoch 00141: val_acc did not improve from 0.68304\n",
            "71/71 - 38s - loss: 1.0123 - acc: 0.6221 - val_loss: 0.9907 - val_acc: 0.6607\n",
            "Epoch 142/200\n",
            "\n",
            "Epoch 00142: val_acc did not improve from 0.68304\n",
            "71/71 - 38s - loss: 1.0068 - acc: 0.6243 - val_loss: 1.0230 - val_acc: 0.6562\n",
            "Epoch 143/200\n",
            "\n",
            "Epoch 00143: val_acc did not improve from 0.68304\n",
            "71/71 - 38s - loss: 1.0122 - acc: 0.6310 - val_loss: 0.9825 - val_acc: 0.6652\n",
            "Epoch 144/200\n",
            "\n",
            "Epoch 00144: val_acc did not improve from 0.68304\n",
            "71/71 - 38s - loss: 0.9895 - acc: 0.6301 - val_loss: 1.0239 - val_acc: 0.6429\n",
            "Epoch 145/200\n",
            "\n",
            "Epoch 00145: val_acc did not improve from 0.68304\n",
            "71/71 - 38s - loss: 1.0216 - acc: 0.6168 - val_loss: 1.0106 - val_acc: 0.6652\n",
            "Epoch 146/200\n",
            "\n",
            "Epoch 00146: val_acc did not improve from 0.68304\n",
            "71/71 - 38s - loss: 1.0093 - acc: 0.6208 - val_loss: 0.9508 - val_acc: 0.6786\n",
            "Epoch 147/200\n",
            "\n",
            "Epoch 00147: val_acc did not improve from 0.68304\n",
            "71/71 - 38s - loss: 0.9906 - acc: 0.6435 - val_loss: 0.9866 - val_acc: 0.6473\n",
            "Epoch 148/200\n",
            "\n",
            "Epoch 00148: val_acc did not improve from 0.68304\n",
            "71/71 - 38s - loss: 1.0056 - acc: 0.6141 - val_loss: 0.9799 - val_acc: 0.6786\n",
            "Epoch 149/200\n",
            "\n",
            "Epoch 00149: val_acc did not improve from 0.68304\n",
            "71/71 - 38s - loss: 0.9813 - acc: 0.6212 - val_loss: 0.9497 - val_acc: 0.6830\n",
            "Epoch 150/200\n",
            "\n",
            "Epoch 00150: val_acc did not improve from 0.68304\n",
            "71/71 - 38s - loss: 0.9839 - acc: 0.6328 - val_loss: 0.9826 - val_acc: 0.6830\n",
            "Epoch 151/200\n",
            "\n",
            "Epoch 00151: val_acc did not improve from 0.68304\n",
            "71/71 - 38s - loss: 0.9852 - acc: 0.6334 - val_loss: 0.9943 - val_acc: 0.6518\n",
            "Epoch 152/200\n",
            "\n",
            "Epoch 00152: val_acc did not improve from 0.68304\n",
            "71/71 - 38s - loss: 0.9822 - acc: 0.6390 - val_loss: 0.9952 - val_acc: 0.6607\n",
            "Epoch 153/200\n",
            "\n",
            "Epoch 00153: val_acc did not improve from 0.68304\n",
            "71/71 - 38s - loss: 0.9950 - acc: 0.6301 - val_loss: 0.9461 - val_acc: 0.6741\n",
            "Epoch 154/200\n",
            "\n",
            "Epoch 00154: val_acc did not improve from 0.68304\n",
            "71/71 - 38s - loss: 0.9936 - acc: 0.6337 - val_loss: 0.9690 - val_acc: 0.6696\n",
            "Epoch 155/200\n",
            "\n",
            "Epoch 00155: val_acc improved from 0.68304 to 0.69196, saving model to waste_classifier_model.h5\n",
            "71/71 - 38s - loss: 0.9826 - acc: 0.6301 - val_loss: 0.9672 - val_acc: 0.6920\n",
            "Epoch 156/200\n",
            "\n",
            "Epoch 00156: val_acc did not improve from 0.69196\n",
            "71/71 - 38s - loss: 0.9681 - acc: 0.6417 - val_loss: 0.9669 - val_acc: 0.6295\n",
            "Epoch 157/200\n",
            "\n",
            "Epoch 00157: val_acc did not improve from 0.69196\n",
            "71/71 - 38s - loss: 0.9718 - acc: 0.6306 - val_loss: 0.9307 - val_acc: 0.6920\n",
            "Epoch 158/200\n",
            "\n",
            "Epoch 00158: val_acc did not improve from 0.69196\n",
            "71/71 - 38s - loss: 0.9644 - acc: 0.6426 - val_loss: 1.0011 - val_acc: 0.6473\n",
            "Epoch 159/200\n",
            "\n",
            "Epoch 00159: val_acc did not improve from 0.69196\n",
            "71/71 - 38s - loss: 0.9629 - acc: 0.6533 - val_loss: 1.0044 - val_acc: 0.6250\n",
            "Epoch 160/200\n",
            "\n",
            "Epoch 00160: val_acc improved from 0.69196 to 0.70089, saving model to waste_classifier_model.h5\n",
            "71/71 - 38s - loss: 0.9744 - acc: 0.6310 - val_loss: 0.9466 - val_acc: 0.7009\n",
            "Epoch 161/200\n",
            "\n",
            "Epoch 00161: val_acc did not improve from 0.70089\n",
            "71/71 - 40s - loss: 0.9888 - acc: 0.6435 - val_loss: 0.9790 - val_acc: 0.6696\n",
            "Epoch 162/200\n",
            "\n",
            "Epoch 00162: val_acc did not improve from 0.70089\n",
            "71/71 - 38s - loss: 0.9702 - acc: 0.6373 - val_loss: 0.9132 - val_acc: 0.6562\n",
            "Epoch 163/200\n",
            "\n",
            "Epoch 00163: val_acc did not improve from 0.70089\n",
            "71/71 - 38s - loss: 0.9843 - acc: 0.6341 - val_loss: 0.9455 - val_acc: 0.7009\n",
            "Epoch 164/200\n",
            "\n",
            "Epoch 00164: val_acc did not improve from 0.70089\n",
            "71/71 - 38s - loss: 0.9564 - acc: 0.6471 - val_loss: 0.9816 - val_acc: 0.6696\n",
            "Epoch 165/200\n",
            "\n",
            "Epoch 00165: val_acc did not improve from 0.70089\n",
            "71/71 - 39s - loss: 0.9678 - acc: 0.6435 - val_loss: 1.0051 - val_acc: 0.6652\n",
            "Epoch 166/200\n",
            "\n",
            "Epoch 00166: val_acc did not improve from 0.70089\n",
            "71/71 - 38s - loss: 0.9615 - acc: 0.6497 - val_loss: 0.9625 - val_acc: 0.6786\n",
            "Epoch 167/200\n",
            "\n",
            "Epoch 00167: val_acc did not improve from 0.70089\n",
            "71/71 - 38s - loss: 0.9470 - acc: 0.6511 - val_loss: 0.9846 - val_acc: 0.6384\n",
            "Epoch 168/200\n",
            "\n",
            "Epoch 00168: val_acc did not improve from 0.70089\n",
            "71/71 - 38s - loss: 0.9577 - acc: 0.6493 - val_loss: 0.9690 - val_acc: 0.6696\n",
            "Epoch 169/200\n",
            "\n",
            "Epoch 00169: val_acc did not improve from 0.70089\n",
            "71/71 - 38s - loss: 0.9318 - acc: 0.6640 - val_loss: 0.9544 - val_acc: 0.6518\n",
            "Epoch 170/200\n",
            "\n",
            "Epoch 00170: val_acc did not improve from 0.70089\n",
            "71/71 - 38s - loss: 0.9754 - acc: 0.6364 - val_loss: 0.9647 - val_acc: 0.6652\n",
            "Epoch 171/200\n",
            "\n",
            "Epoch 00171: val_acc did not improve from 0.70089\n",
            "71/71 - 38s - loss: 0.9642 - acc: 0.6493 - val_loss: 0.9136 - val_acc: 0.6607\n",
            "Epoch 172/200\n",
            "\n",
            "Epoch 00172: val_acc did not improve from 0.70089\n",
            "71/71 - 38s - loss: 0.9584 - acc: 0.6569 - val_loss: 0.9685 - val_acc: 0.6473\n",
            "Epoch 173/200\n",
            "\n",
            "Epoch 00173: val_acc did not improve from 0.70089\n",
            "71/71 - 38s - loss: 0.9574 - acc: 0.6506 - val_loss: 0.9617 - val_acc: 0.6786\n",
            "Epoch 174/200\n",
            "\n",
            "Epoch 00174: val_acc did not improve from 0.70089\n",
            "71/71 - 38s - loss: 0.9623 - acc: 0.6457 - val_loss: 0.9147 - val_acc: 0.6875\n",
            "Epoch 175/200\n",
            "\n",
            "Epoch 00175: val_acc did not improve from 0.70089\n",
            "71/71 - 38s - loss: 0.9482 - acc: 0.6582 - val_loss: 0.9475 - val_acc: 0.6696\n",
            "Epoch 176/200\n",
            "\n",
            "Epoch 00176: val_acc did not improve from 0.70089\n",
            "71/71 - 38s - loss: 0.9291 - acc: 0.6676 - val_loss: 0.9219 - val_acc: 0.6875\n",
            "Epoch 177/200\n",
            "\n",
            "Epoch 00177: val_acc did not improve from 0.70089\n",
            "71/71 - 38s - loss: 0.9534 - acc: 0.6408 - val_loss: 0.9884 - val_acc: 0.6473\n",
            "Epoch 178/200\n",
            "\n",
            "Epoch 00178: val_acc did not improve from 0.70089\n",
            "71/71 - 40s - loss: 0.9649 - acc: 0.6439 - val_loss: 0.9550 - val_acc: 0.6696\n",
            "Epoch 179/200\n",
            "\n",
            "Epoch 00179: val_acc did not improve from 0.70089\n",
            "71/71 - 38s - loss: 0.9132 - acc: 0.6684 - val_loss: 0.9203 - val_acc: 0.6920\n",
            "Epoch 180/200\n",
            "\n",
            "Epoch 00180: val_acc did not improve from 0.70089\n",
            "71/71 - 38s - loss: 0.9407 - acc: 0.6573 - val_loss: 0.8897 - val_acc: 0.7009\n",
            "Epoch 181/200\n",
            "\n",
            "Epoch 00181: val_acc did not improve from 0.70089\n",
            "71/71 - 39s - loss: 0.9391 - acc: 0.6484 - val_loss: 0.9198 - val_acc: 0.6920\n",
            "Epoch 182/200\n",
            "\n",
            "Epoch 00182: val_acc did not improve from 0.70089\n",
            "71/71 - 38s - loss: 0.9216 - acc: 0.6511 - val_loss: 0.9232 - val_acc: 0.6920\n",
            "Epoch 183/200\n",
            "\n",
            "Epoch 00183: val_acc improved from 0.70089 to 0.72768, saving model to waste_classifier_model.h5\n",
            "71/71 - 38s - loss: 0.9391 - acc: 0.6564 - val_loss: 0.9142 - val_acc: 0.7277\n",
            "Epoch 184/200\n",
            "\n",
            "Epoch 00184: val_acc did not improve from 0.72768\n",
            "71/71 - 38s - loss: 0.9313 - acc: 0.6622 - val_loss: 0.9122 - val_acc: 0.6652\n",
            "Epoch 185/200\n",
            "\n",
            "Epoch 00185: val_acc did not improve from 0.72768\n",
            "71/71 - 38s - loss: 0.9185 - acc: 0.6649 - val_loss: 0.9371 - val_acc: 0.6696\n",
            "Epoch 186/200\n",
            "\n",
            "Epoch 00186: val_acc did not improve from 0.72768\n",
            "71/71 - 38s - loss: 0.9611 - acc: 0.6480 - val_loss: 0.9181 - val_acc: 0.6875\n",
            "Epoch 187/200\n",
            "\n",
            "Epoch 00187: val_acc did not improve from 0.72768\n",
            "71/71 - 38s - loss: 0.9217 - acc: 0.6564 - val_loss: 0.9349 - val_acc: 0.6741\n",
            "Epoch 188/200\n",
            "\n",
            "Epoch 00188: val_acc did not improve from 0.72768\n",
            "71/71 - 38s - loss: 0.9252 - acc: 0.6497 - val_loss: 0.9210 - val_acc: 0.7188\n",
            "Epoch 189/200\n",
            "\n",
            "Epoch 00189: val_acc did not improve from 0.72768\n",
            "71/71 - 38s - loss: 0.9332 - acc: 0.6609 - val_loss: 0.8929 - val_acc: 0.6696\n",
            "Epoch 190/200\n",
            "\n",
            "Epoch 00190: val_acc did not improve from 0.72768\n",
            "71/71 - 38s - loss: 0.9262 - acc: 0.6609 - val_loss: 0.9337 - val_acc: 0.6696\n",
            "Epoch 191/200\n",
            "\n",
            "Epoch 00191: val_acc did not improve from 0.72768\n",
            "71/71 - 38s - loss: 0.9189 - acc: 0.6676 - val_loss: 0.9131 - val_acc: 0.6473\n",
            "Epoch 192/200\n",
            "\n",
            "Epoch 00192: val_acc did not improve from 0.72768\n",
            "71/71 - 38s - loss: 0.9094 - acc: 0.6671 - val_loss: 0.9438 - val_acc: 0.6607\n",
            "Epoch 193/200\n",
            "\n",
            "Epoch 00193: val_acc did not improve from 0.72768\n",
            "71/71 - 38s - loss: 0.9057 - acc: 0.6653 - val_loss: 0.8879 - val_acc: 0.7009\n",
            "Epoch 194/200\n",
            "\n",
            "Epoch 00194: val_acc did not improve from 0.72768\n",
            "71/71 - 38s - loss: 0.9221 - acc: 0.6609 - val_loss: 0.8759 - val_acc: 0.7054\n",
            "Epoch 195/200\n",
            "\n",
            "Epoch 00195: val_acc did not improve from 0.72768\n",
            "71/71 - 38s - loss: 0.9261 - acc: 0.6631 - val_loss: 0.9477 - val_acc: 0.6920\n",
            "Epoch 196/200\n",
            "\n",
            "Epoch 00196: val_acc did not improve from 0.72768\n",
            "71/71 - 38s - loss: 0.9102 - acc: 0.6640 - val_loss: 0.9747 - val_acc: 0.6741\n",
            "Epoch 197/200\n",
            "\n",
            "Epoch 00197: val_acc did not improve from 0.72768\n",
            "71/71 - 37s - loss: 0.9133 - acc: 0.6635 - val_loss: 0.9603 - val_acc: 0.6696\n",
            "Epoch 198/200\n",
            "\n",
            "Epoch 00198: val_acc did not improve from 0.72768\n",
            "71/71 - 38s - loss: 0.9071 - acc: 0.6644 - val_loss: 0.9115 - val_acc: 0.6830\n",
            "Epoch 199/200\n",
            "\n",
            "Epoch 00199: val_acc did not improve from 0.72768\n",
            "71/71 - 37s - loss: 0.9047 - acc: 0.6622 - val_loss: 0.9668 - val_acc: 0.6696\n",
            "Epoch 200/200\n",
            "\n",
            "Epoch 00200: val_acc did not improve from 0.72768\n",
            "71/71 - 38s - loss: 0.9203 - acc: 0.6613 - val_loss: 0.9019 - val_acc: 0.6786\n"
          ],
          "name": "stdout"
        }
      ]
    },
    {
      "cell_type": "markdown",
      "metadata": {
        "id": "eqAPRHMewhdm",
        "colab_type": "text"
      },
      "source": [
        "# Results Analysis"
      ]
    },
    {
      "cell_type": "code",
      "metadata": {
        "id": "p8FS89kaeIYV",
        "colab_type": "code",
        "colab": {
          "base_uri": "https://localhost:8080/",
          "height": 51
        },
        "outputId": "71889115-8dc0-41c1-daa1-04e4644c86c5"
      },
      "source": [
        "test_loss, test_acc = waste_model.evaluate(test_generator)\n",
        "\n",
        "print(\"Test accuracy:\", test_acc)"
      ],
      "execution_count": null,
      "outputs": [
        {
          "output_type": "stream",
          "text": [
            "8/8 [==============================] - 1s 108ms/step - loss: 0.9251 - acc: 0.6733\n",
            "Test accuracy: 0.6733067631721497\n"
          ],
          "name": "stdout"
        }
      ]
    },
    {
      "cell_type": "code",
      "metadata": {
        "id": "M5JzH09Pp7fj",
        "colab_type": "code",
        "colab": {}
      },
      "source": [
        "acc = result.history['acc']\n",
        "val_acc = result.history['val_acc']\n",
        "\n",
        "loss = result.history['loss']\n",
        "val_loss = result.history['val_loss']\n"
      ],
      "execution_count": null,
      "outputs": []
    },
    {
      "cell_type": "code",
      "metadata": {
        "id": "05Z0m-2sPSBd",
        "colab_type": "code",
        "colab": {
          "base_uri": "https://localhost:8080/",
          "height": 293
        },
        "outputId": "311b6664-487a-43c4-aea6-d07417628e1e"
      },
      "source": [
        "# Plot Accuracy\n",
        "plt.figure(figsize=(8, 8))\n",
        "plt.subplot(2, 1, 1)\n",
        "plt.plot(acc, label='Training')\n",
        "plt.plot(val_acc, label='Validation')\n",
        "plt.legend(loc='lower right')\n",
        "plt.ylabel('Accuracy')\n",
        "plt.xlabel('Number of Epochs')\n",
        "plt.ylim([min(plt.ylim()),1])\n",
        "plt.title('Accuracy')\n"
      ],
      "execution_count": null,
      "outputs": [
        {
          "output_type": "execute_result",
          "data": {
            "text/plain": [
              "Text(0.5, 1.0, 'Accuracy')"
            ]
          },
          "metadata": {
            "tags": []
          },
          "execution_count": 31
        },
        {
          "output_type": "display_data",
          "data": {
            "image/png": "[encoded data removed]",
            "text/plain": [
              "<Figure size 576x576 with 1 Axes>"
            ]
          },
          "metadata": {
            "tags": [],
            "needs_background": "light"
          }
        }
      ]
    },
    {
      "cell_type": "code",
      "metadata": {
        "id": "vtqwmaQlPSW4",
        "colab_type": "code",
        "colab": {
          "base_uri": "https://localhost:8080/",
          "height": 177
        },
        "outputId": "2972bb49-54db-455f-da1f-998bf362e45b"
      },
      "source": [
        "# Plot Loss\n",
        "plt.subplot(2, 1, 2)\n",
        "plt.plot(loss, label='Training')\n",
        "plt.plot(val_loss, label='Validation')\n",
        "plt.legend(loc='upper right')\n",
        "plt.ylabel('Cross Entropy')\n",
        "plt.xlabel('Number of Epochs')\n",
        "plt.ylim([0,max(plt.ylim())])\n",
        "plt.title('Loss')\n",
        "plt.show()"
      ],
      "execution_count": null,
      "outputs": [
        {
          "output_type": "display_data",
          "data": {
            "image/png": "[encoded data removed]",
            "text/plain": [
              "<Figure size 432x288 with 1 Axes>"
            ]
          },
          "metadata": {
            "tags": [],
            "needs_background": "light"
          }
        }
      ]
    },
    {
      "cell_type": "code",
      "metadata": {
        "id": "Mah2AdXZttZM",
        "colab_type": "code",
        "colab": {}
      },
      "source": [
        "def plot_cm(labels, predictions, p=0.5):\n",
        "  cm = confusion_matrix(labels, predictions)\n",
        "  plt.figure(figsize=(5,5))\n",
        "  sns.heatmap(cm, annot=True, fmt=\"d\")\n",
        "  plt.title('Confusion matrix')\n",
        "  plt.ylabel('Actual label')\n",
        "  plt.xlabel('Predicted label')"
      ],
      "execution_count": null,
      "outputs": []
    },
    {
      "cell_type": "code",
      "metadata": {
        "id": "fZueHrdBPtNQ",
        "colab_type": "code",
        "colab": {
          "base_uri": "https://localhost:8080/",
          "height": 187
        },
        "outputId": "ea967f2a-9607-4e79-ed1b-45001ac8d3e1"
      },
      "source": [
        "predictions = waste_model.predict(test_generator)\n",
        "\n",
        "predicted = predictions.argmax(axis=-1)\n",
        "actual = test_generator.classes\n",
        "class_labels = test_generator.class_indices\n",
        "\n",
        "print(predicted.shape)\n",
        "print(actual)\n",
        "\n",
        "print(\"\")\n",
        "\n",
        "print(class_labels)"
      ],
      "execution_count": null,
      "outputs": [
        {
          "output_type": "stream",
          "text": [
            "(251,)\n",
            "[0 0 0 0 0 0 0 0 0 0 0 0 0 0 0 0 0 0 0 0 0 0 0 0 0 0 0 0 0 0 0 0 0 0 0 0 0\n",
            " 0 0 0 1 1 1 1 1 1 1 1 1 1 1 1 1 1 1 1 1 1 1 1 1 1 1 1 1 1 1 1 1 1 1 1 1 1\n",
            " 1 1 1 1 1 1 1 1 1 1 1 1 1 1 1 1 2 2 2 2 2 2 2 2 2 2 2 2 2 2 2 2 2 2 2 2 2\n",
            " 2 2 2 2 2 2 2 2 2 2 2 2 2 2 2 2 2 2 2 2 3 3 3 3 3 3 3 3 3 3 3 3 3 3 3 3 3\n",
            " 3 3 3 3 3 3 3 3 3 3 3 3 3 3 3 3 3 3 3 3 3 3 3 3 3 3 3 3 3 3 3 3 3 3 3 3 3\n",
            " 3 3 3 3 3 4 4 4 4 4 4 4 4 4 4 4 4 4 4 4 4 4 4 4 4 4 4 4 4 4 4 4 4 4 4 4 4\n",
            " 4 4 4 4 4 4 4 4 4 4 4 4 4 4 4 4 5 5 5 5 5 5 5 5 5 5 5 5 5]\n",
            "\n",
            "{'cardboard': 0, 'glass': 1, 'metal': 2, 'paper': 3, 'plastic': 4, 'trash': 5}\n"
          ],
          "name": "stdout"
        }
      ]
    },
    {
      "cell_type": "code",
      "metadata": {
        "id": "qvZn6hWgq7TX",
        "colab_type": "code",
        "colab": {
          "base_uri": "https://localhost:8080/",
          "height": 350
        },
        "outputId": "b9aec483-3f54-47a6-e836-c0e19b6040b8"
      },
      "source": [
        "plot_cm(actual,predicted)"
      ],
      "execution_count": null,
      "outputs": [
        {
          "output_type": "display_data",
          "data": {
            "image/png": "[encoded data removed]",
            "text/plain": [
              "<Figure size 360x360 with 2 Axes>"
            ]
          },
          "metadata": {
            "tags": [],
            "needs_background": "light"
          }
        }
      ]
    }
  ]
}