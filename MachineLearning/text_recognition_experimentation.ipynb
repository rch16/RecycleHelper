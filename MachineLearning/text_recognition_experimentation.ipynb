{
  "nbformat": 4,
  "nbformat_minor": 0,
  "metadata": {
    "colab": {
      "name": "Untitled0.ipynb",
      "provenance": [],
      "authorship_tag": "ABX9TyNU+h9QFqKndV5LmSAJobtb",
      "include_colab_link": true
    },
    "kernelspec": {
      "name": "python3",
      "display_name": "Python 3"
    },
    "accelerator": "GPU"
  },
  "cells": [
    {
      "cell_type": "markdown",
      "metadata": {
        "id": "view-in-github",
        "colab_type": "text"
      },
      "source": [
        "<a href=\"https://colab.research.google.com/github/rch16/FYP/blob/master/MachineLearning/text_recognition_experimentation.ipynb\" target=\"_parent\"><img src=\"https://colab.research.google.com/assets/colab-badge.svg\" alt=\"Open In Colab\"/></a>"
      ]
    },
    {
      "cell_type": "code",
      "metadata": {
        "id": "rN1mncz8nEP9",
        "colab_type": "code",
        "colab": {}
      },
      "source": [
        "# imports\n",
        "import csv\n",
        "import pandas as pd\n",
        "from skimage import io"
      ],
      "execution_count": 0,
      "outputs": []
    },
    {
      "cell_type": "markdown",
      "metadata": {
        "id": "hjTHJkmGm_9k",
        "colab_type": "text"
      },
      "source": [
        "### Upload Dataset\n",
        "Each row in the csv file is a new image"
      ]
    },
    {
      "cell_type": "code",
      "metadata": {
        "id": "nyIkDbXqmCXM",
        "colab_type": "code",
        "colab": {
          "base_uri": "https://localhost:8080/",
          "height": 201
        },
        "outputId": "ee4bee2c-06b8-48c2-ac76-dc08704e0a5a"
      },
      "source": [
        "# longest row is 191520\n",
        "path = \"/content/label_dataset.csv\"\n",
        "data = pd.read_csv(path,header=None,sep='\\n')\n",
        "#data = data[0].str.split(',', expand=True)                 \n",
        "                   #sep=',',header=None,nrows=249,engine='python')\n",
        "data.head()"
      ],
      "execution_count": 16,
      "outputs": [
        {
          "output_type": "execute_result",
          "data": {
            "text/html": [
              "<div>\n",
              "<style scoped>\n",
              "    .dataframe tbody tr th:only-of-type {\n",
              "        vertical-align: middle;\n",
              "    }\n",
              "\n",
              "    .dataframe tbody tr th {\n",
              "        vertical-align: top;\n",
              "    }\n",
              "\n",
              "    .dataframe thead th {\n",
              "        text-align: right;\n",
              "    }\n",
              "</style>\n",
              "<table border=\"1\" class=\"dataframe\">\n",
              "  <thead>\n",
              "    <tr style=\"text-align: right;\">\n",
              "      <th></th>\n",
              "      <th>0</th>\n",
              "    </tr>\n",
              "  </thead>\n",
              "  <tbody>\n",
              "    <tr>\n",
              "      <th>0</th>\n",
              "      <td>188,190,190,191,195,200,198,193,191,190,191,19...</td>\n",
              "    </tr>\n",
              "    <tr>\n",
              "      <th>1</th>\n",
              "      <td>253,254,251,251,252,247,237,194,126,78,78,79,7...</td>\n",
              "    </tr>\n",
              "    <tr>\n",
              "      <th>2</th>\n",
              "      <td>162,162,162,162,162,162,163,163,162,162,162,16...</td>\n",
              "    </tr>\n",
              "    <tr>\n",
              "      <th>3</th>\n",
              "      <td>254,254,253,253,255,255,254,255,253,255,253,25...</td>\n",
              "    </tr>\n",
              "    <tr>\n",
              "      <th>4</th>\n",
              "      <td>255,255,255,255,255,255,255,255,255,255,255,25...</td>\n",
              "    </tr>\n",
              "  </tbody>\n",
              "</table>\n",
              "</div>"
            ],
            "text/plain": [
              "                                                   0\n",
              "0  188,190,190,191,195,200,198,193,191,190,191,19...\n",
              "1  253,254,251,251,252,247,237,194,126,78,78,79,7...\n",
              "2  162,162,162,162,162,162,163,163,162,162,162,16...\n",
              "3  254,254,253,253,255,255,254,255,253,255,253,25...\n",
              "4  255,255,255,255,255,255,255,255,255,255,255,25..."
            ]
          },
          "metadata": {
            "tags": []
          },
          "execution_count": 16
        }
      ]
    }
  ]
}